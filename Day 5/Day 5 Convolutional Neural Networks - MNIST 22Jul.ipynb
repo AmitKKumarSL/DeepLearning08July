{
 "cells": [
  {
   "cell_type": "markdown",
   "metadata": {},
   "source": [
    "## Convolutional Neural Networks - MNIST dataset"
   ]
  },
  {
   "cell_type": "code",
   "execution_count": 1,
   "metadata": {},
   "outputs": [],
   "source": [
    "import warnings\n",
    "warnings.filterwarnings(\"ignore\")"
   ]
  },
  {
   "cell_type": "code",
   "execution_count": 2,
   "metadata": {},
   "outputs": [],
   "source": [
    "import tensorflow as tf\n",
    "from tensorflow.keras.datasets import mnist"
   ]
  },
  {
   "cell_type": "code",
   "execution_count": 3,
   "metadata": {},
   "outputs": [],
   "source": [
    "(X_train, y_train), (X_test, y_test) = mnist.load_data()"
   ]
  },
  {
   "cell_type": "code",
   "execution_count": 4,
   "metadata": {},
   "outputs": [
    {
     "data": {
      "text/plain": [
       "(60000, 28, 28)"
      ]
     },
     "execution_count": 4,
     "metadata": {},
     "output_type": "execute_result"
    }
   ],
   "source": [
    "X_train.shape"
   ]
  },
  {
   "cell_type": "code",
   "execution_count": 5,
   "metadata": {},
   "outputs": [
    {
     "data": {
      "text/plain": [
       "(10000, 28, 28)"
      ]
     },
     "execution_count": 5,
     "metadata": {},
     "output_type": "execute_result"
    }
   ],
   "source": [
    "X_test.shape"
   ]
  },
  {
   "cell_type": "code",
   "execution_count": 6,
   "metadata": {},
   "outputs": [
    {
     "data": {
      "text/plain": [
       "<matplotlib.image.AxesImage at 0x7f7eb5346990>"
      ]
     },
     "execution_count": 6,
     "metadata": {},
     "output_type": "execute_result"
    },
    {
     "data": {
      "image/png": "[encoded data removed]",
      "text/plain": [
       "<Figure size 432x288 with 1 Axes>"
      ]
     },
     "metadata": {
      "needs_background": "light"
     },
     "output_type": "display_data"
    }
   ],
   "source": [
    "import matplotlib.pyplot as plt\n",
    "plt.imshow(X_train[2], cmap='gray')"
   ]
  },
  {
   "cell_type": "code",
   "execution_count": 7,
   "metadata": {},
   "outputs": [
    {
     "data": {
      "text/plain": [
       "4"
      ]
     },
     "execution_count": 7,
     "metadata": {},
     "output_type": "execute_result"
    }
   ],
   "source": [
    "y_train[2]"
   ]
  },
  {
   "cell_type": "code",
   "execution_count": 8,
   "metadata": {},
   "outputs": [],
   "source": [
    "X_train = X_train.reshape(60000,28,28,1)\n",
    "X_test = X_test.reshape(10000,28,28,1)"
   ]
  },
  {
   "cell_type": "code",
   "execution_count": 9,
   "metadata": {},
   "outputs": [
    {
     "name": "stdout",
     "output_type": "stream",
     "text": [
      " Training Shape (60000, 28, 28, 1) Test Shape (10000, 28, 28, 1)\n"
     ]
    }
   ],
   "source": [
    "print(f\" Training Shape {X_train.shape} Test Shape {X_test.shape}\")"
   ]
  },
  {
   "cell_type": "code",
   "execution_count": 11,
   "metadata": {},
   "outputs": [
    {
     "data": {
      "text/plain": [
       "((60000, 28, 28, 1), (10000, 28, 28, 1))"
      ]
     },
     "execution_count": 11,
     "metadata": {},
     "output_type": "execute_result"
    }
   ],
   "source": [
    "X_train.shape, X_test.shape"
   ]
  },
  {
   "cell_type": "code",
   "execution_count": 10,
   "metadata": {},
   "outputs": [],
   "source": [
    "X_train = X_train/255.0\n",
    "X_test = X_test/255.0"
   ]
  },
  {
   "cell_type": "code",
   "execution_count": 12,
   "metadata": {},
   "outputs": [],
   "source": [
    "from tensorflow.keras.models import Sequential"
   ]
  },
  {
   "cell_type": "code",
   "execution_count": 13,
   "metadata": {},
   "outputs": [],
   "source": [
    "from tensorflow.keras.layers import Dense, Conv2D, Flatten, MaxPool2D"
   ]
  },
  {
   "cell_type": "code",
   "execution_count": 14,
   "metadata": {},
   "outputs": [],
   "source": [
    "#create model\n",
    "model = Sequential()"
   ]
  },
  {
   "cell_type": "code",
   "execution_count": 15,
   "metadata": {},
   "outputs": [],
   "source": [
    "# Convolutional Layer with 32 filters, 3*3 filter size, stride = 1 and no padding\n",
    "model.add(Conv2D(32, \n",
    "                 kernel_size=3,\n",
    "                 activation='relu',\n",
    "                 padding='valid', # value = 'same' if padding is needed\n",
    "                 input_shape=(28,28,1)))"
   ]
  },
  {
   "cell_type": "code",
   "execution_count": 16,
   "metadata": {},
   "outputs": [],
   "source": [
    "model.add(MaxPool2D(pool_size = 2)) #Maxpool2d"
   ]
  },
  {
   "cell_type": "code",
   "execution_count": 17,
   "metadata": {},
   "outputs": [],
   "source": [
    "model.add(Flatten()) # Flatten"
   ]
  },
  {
   "cell_type": "code",
   "execution_count": 18,
   "metadata": {},
   "outputs": [],
   "source": [
    "model.add(Dense(64, activation = 'relu')) # Fully Connected Layer"
   ]
  },
  {
   "cell_type": "code",
   "execution_count": 19,
   "metadata": {},
   "outputs": [],
   "source": [
    "model.add(Dense(10, activation='softmax')) # Output layer"
   ]
  },
  {
   "cell_type": "code",
   "execution_count": 25,
   "metadata": {},
   "outputs": [
    {
     "data": {
      "text/plain": [
       "(26, 320, 5408, 346176, 650)"
      ]
     },
     "execution_count": 25,
     "metadata": {},
     "output_type": "execute_result"
    }
   ],
   "source": [
    "28-3+1, (3*3+1)*32, 13*13*32, (5408+1)*64, (64+1)*10"
   ]
  },
  {
   "cell_type": "code",
   "execution_count": 20,
   "metadata": {},
   "outputs": [
    {
     "name": "stdout",
     "output_type": "stream",
     "text": [
      "Model: \"sequential\"\n",
      "_________________________________________________________________\n",
      " Layer (type)                Output Shape              Param #   \n",
      "=================================================================\n",
      " conv2d (Conv2D)             (None, 26, 26, 32)        320       \n",
      "                                                                 \n",
      " max_pooling2d (MaxPooling2D  (None, 13, 13, 32)       0         \n",
      " )                                                               \n",
      "                                                                 \n",
      " flatten (Flatten)           (None, 5408)              0         \n",
      "                                                                 \n",
      " dense (Dense)               (None, 64)                346176    \n",
      "                                                                 \n",
      " dense_1 (Dense)             (None, 10)                650       \n",
      "                                                                 \n",
      "=================================================================\n",
      "Total params: 347,146\n",
      "Trainable params: 347,146\n",
      "Non-trainable params: 0\n",
      "_________________________________________________________________\n"
     ]
    }
   ],
   "source": [
    "model.summary()"
   ]
  },
  {
   "cell_type": "code",
   "execution_count": 26,
   "metadata": {},
   "outputs": [],
   "source": [
    "model.compile(optimizer='adam', \n",
    "              loss=tf.keras.losses.SparseCategoricalCrossentropy(), \n",
    "              metrics=['accuracy'])"
   ]
  },
  {
   "cell_type": "code",
   "execution_count": 27,
   "metadata": {},
   "outputs": [
    {
     "name": "stdout",
     "output_type": "stream",
     "text": [
      "Epoch 1/5\n",
      "1875/1875 [==============================] - 32s 14ms/step - loss: 0.1698 - accuracy: 0.9502 - val_loss: 0.0818 - val_accuracy: 0.9731\n",
      "Epoch 2/5\n",
      "1875/1875 [==============================] - 25s 13ms/step - loss: 0.0608 - accuracy: 0.9820 - val_loss: 0.0485 - val_accuracy: 0.9833\n",
      "Epoch 3/5\n",
      "1875/1875 [==============================] - 25s 13ms/step - loss: 0.0409 - accuracy: 0.9872 - val_loss: 0.0554 - val_accuracy: 0.9807\n",
      "Epoch 4/5\n",
      "1875/1875 [==============================] - 25s 13ms/step - loss: 0.0272 - accuracy: 0.9913 - val_loss: 0.0450 - val_accuracy: 0.9852\n",
      "Epoch 5/5\n",
      "1875/1875 [==============================] - 25s 13ms/step - loss: 0.0203 - accuracy: 0.9934 - val_loss: 0.0546 - val_accuracy: 0.9828\n"
     ]
    },
    {
     "data": {
      "text/plain": [
       "<keras.callbacks.History at 0x7f7eb29f9150>"
      ]
     },
     "execution_count": 27,
     "metadata": {},
     "output_type": "execute_result"
    }
   ],
   "source": [
    "model.fit(X_train, \n",
    "          y_train, \n",
    "          validation_data=(X_test, y_test), \n",
    "          epochs=5)"
   ]
  },
  {
   "cell_type": "code",
   "execution_count": 28,
   "metadata": {},
   "outputs": [],
   "source": [
    "import numpy as np"
   ]
  },
  {
   "cell_type": "code",
   "execution_count": 38,
   "metadata": {},
   "outputs": [
    {
     "name": "stdout",
     "output_type": "stream",
     "text": [
      "[1.9305061e-16 3.5126554e-10 5.0424454e-10 7.4382439e-02 5.3335911e-13\n",
      " 9.2561752e-01 3.6361861e-10 6.6047150e-12 4.6039341e-09 3.9448189e-08]\n",
      "5\n"
     ]
    }
   ],
   "source": [
    "print(model.predict(X_train)[0])\n",
    "print(np.argmax(model.predict(X_train)[0]))"
   ]
  },
  {
   "cell_type": "code",
   "execution_count": 29,
   "metadata": {},
   "outputs": [],
   "source": [
    "y_train_pred = np.argmax(model.predict(X_train),axis=1)"
   ]
  },
  {
   "cell_type": "code",
   "execution_count": 30,
   "metadata": {},
   "outputs": [],
   "source": [
    "y_test_pred = np.argmax(model.predict(X_test), axis=1)"
   ]
  },
  {
   "cell_type": "code",
   "execution_count": 31,
   "metadata": {},
   "outputs": [],
   "source": [
    "from sklearn.metrics import confusion_matrix, accuracy_score"
   ]
  },
  {
   "cell_type": "code",
   "execution_count": 32,
   "metadata": {},
   "outputs": [
    {
     "name": "stdout",
     "output_type": "stream",
     "text": [
      "Training Set Confusion Matrix\n",
      "[[5907    0    1    0    0    0   13    0    2    0]\n",
      " [   0 6727    1    0    0    0    5    7    2    0]\n",
      " [   6    1 5905    1   16    1    2   19    7    0]\n",
      " [   0    0    1 6115    0    3    2    5    4    1]\n",
      " [   0    1    0    0 5827    0    4    4    6    0]\n",
      " [   0    1    0    6    0 5399   11    0    3    1]\n",
      " [   0    0    0    0    1    0 5917    0    0    0]\n",
      " [   1    2    0    0    0    0    0 6257    1    4]\n",
      " [   1    1    1    1    0    0   14    1 5832    0]\n",
      " [   5    1    1    7  130    5    1   34   22 5743]]\n",
      "\n",
      "\n",
      " Accuracy 0.9938166666666667\n"
     ]
    }
   ],
   "source": [
    "print(\"Training Set Confusion Matrix\")\n",
    "print(confusion_matrix(y_pred = y_train_pred, y_true=y_train))\n",
    "print(\"\\n\")\n",
    "print(f\" Accuracy {accuracy_score(y_pred = y_train_pred, y_true=y_train)}\")"
   ]
  },
  {
   "cell_type": "code",
   "execution_count": 33,
   "metadata": {},
   "outputs": [
    {
     "name": "stdout",
     "output_type": "stream",
     "text": [
      "Test Set Confusion Matrix\n",
      "[[ 973    0    0    1    1    1    3    0    1    0]\n",
      " [   0 1128    0    1    0    0    4    1    1    0]\n",
      " [   8    4 1002    1    3    0    2    8    4    0]\n",
      " [   0    0    4  994    0    7    0    2    3    0]\n",
      " [   0    0    0    0  978    0    1    1    1    1]\n",
      " [   0    0    0    8    0  878    5    0    1    0]\n",
      " [   4    2    0    1    2    1  947    0    1    0]\n",
      " [   0    1    4    2    0    0    0 1018    1    2]\n",
      " [   2    0    2    1    0    3    5    3  956    2]\n",
      " [   2    3    1    6   25    5    0   10    3  954]]\n",
      "\n",
      "\n",
      " Accuracy 0.9828\n"
     ]
    }
   ],
   "source": [
    "print(\"Test Set Confusion Matrix\")\n",
    "print(confusion_matrix(y_pred = y_test_pred, y_true=y_test))\n",
    "print(\"\\n\")\n",
    "print(f\" Accuracy {accuracy_score(y_pred = y_test_pred, y_true=y_test)}\")"
   ]
  },
  {
   "cell_type": "code",
   "execution_count": 40,
   "metadata": {},
   "outputs": [],
   "source": [
    "model.save('my_cnn_mnist_model_22Jul.h5')"
   ]
  },
  {
   "cell_type": "code",
   "execution_count": 41,
   "metadata": {},
   "outputs": [],
   "source": [
    "m1 = tf.keras.models.load_model('my_cnn_mnist_model_22Jul.h5')"
   ]
  },
  {
   "cell_type": "code",
   "execution_count": 42,
   "metadata": {},
   "outputs": [],
   "source": [
    "y_train_pred1 = np.argmax(m1.predict(X_train),axis=1)"
   ]
  },
  {
   "cell_type": "code",
   "execution_count": 43,
   "metadata": {},
   "outputs": [
    {
     "name": "stdout",
     "output_type": "stream",
     "text": [
      "Confusion Matrix\n",
      "[[5907    0    1    0    0    0   13    0    2    0]\n",
      " [   0 6727    1    0    0    0    5    7    2    0]\n",
      " [   6    1 5905    1   16    1    2   19    7    0]\n",
      " [   0    0    1 6115    0    3    2    5    4    1]\n",
      " [   0    1    0    0 5827    0    4    4    6    0]\n",
      " [   0    1    0    6    0 5399   11    0    3    1]\n",
      " [   0    0    0    0    1    0 5917    0    0    0]\n",
      " [   1    2    0    0    0    0    0 6257    1    4]\n",
      " [   1    1    1    1    0    0   14    1 5832    0]\n",
      " [   5    1    1    7  130    5    1   34   22 5743]]\n",
      "\n",
      "\n",
      " Accuracy 0.9938166666666667\n"
     ]
    }
   ],
   "source": [
    "print(\"Confusion Matrix\")\n",
    "print(confusion_matrix(y_pred = y_train_pred1, y_true=y_train))\n",
    "print(\"\\n\")\n",
    "print(f\" Accuracy {accuracy_score(y_pred = y_train_pred1, y_true=y_train)}\")"
   ]
  },
  {
   "cell_type": "code",
   "execution_count": null,
   "metadata": {},
   "outputs": [],
   "source": []
  },
  {
   "cell_type": "code",
   "execution_count": null,
   "metadata": {},
   "outputs": [],
   "source": []
  }
 ],
 "metadata": {
  "kernelspec": {
   "display_name": "Python 3",
   "language": "python",
   "name": "python3"
  },
  "language_info": {
   "codemirror_mode": {
    "name": "ipython",
    "version": 3
   },
   "file_extension": ".py",
   "mimetype": "text/x-python",
   "name": "python",
   "nbconvert_exporter": "python",
   "pygments_lexer": "ipython3",
   "version": "3.7.6"
  }
 },
 "nbformat": 4,
 "nbformat_minor": 4
}
