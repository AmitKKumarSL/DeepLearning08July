{
 "cells": [
  {
   "cell_type": "code",
   "execution_count": 1,
   "id": "d31b9fe1-36f9-427c-94a2-3fbde5109df0",
   "metadata": {},
   "outputs": [],
   "source": [
    "import pandas as pd\n",
    "import numpy as np"
   ]
  },
  {
   "cell_type": "code",
   "execution_count": 2,
   "id": "11fbce75-7a1f-4fba-aa86-104a3eefc3fa",
   "metadata": {},
   "outputs": [],
   "source": [
    "df_diab = pd.read_csv('diabetes.csv')"
   ]
  },
  {
   "cell_type": "code",
   "execution_count": 3,
   "id": "91639249-a006-4260-8e75-03cfd2aa55b8",
   "metadata": {},
   "outputs": [
    {
     "data": {
      "text/html": [
       "<div>\n",
       "<style scoped>\n",
       "    .dataframe tbody tr th:only-of-type {\n",
       "        vertical-align: middle;\n",
       "    }\n",
       "\n",
       "    .dataframe tbody tr th {\n",
       "        vertical-align: top;\n",
       "    }\n",
       "\n",
       "    .dataframe thead th {\n",
       "        text-align: right;\n",
       "    }\n",
       "</style>\n",
       "<table border=\"1\" class=\"dataframe\">\n",
       "  <thead>\n",
       "    <tr style=\"text-align: right;\">\n",
       "      <th></th>\n",
       "      <th>Pregnancies</th>\n",
       "      <th>Glucose</th>\n",
       "      <th>BloodPressure</th>\n",
       "      <th>SkinThickness</th>\n",
       "      <th>Insulin</th>\n",
       "      <th>BMI</th>\n",
       "      <th>DiabetesPedigreeFunction</th>\n",
       "      <th>Age</th>\n",
       "      <th>Outcome</th>\n",
       "    </tr>\n",
       "  </thead>\n",
       "  <tbody>\n",
       "    <tr>\n",
       "      <th>0</th>\n",
       "      <td>6</td>\n",
       "      <td>148</td>\n",
       "      <td>72</td>\n",
       "      <td>35</td>\n",
       "      <td>0</td>\n",
       "      <td>33.6</td>\n",
       "      <td>0.627</td>\n",
       "      <td>50</td>\n",
       "      <td>1</td>\n",
       "    </tr>\n",
       "    <tr>\n",
       "      <th>1</th>\n",
       "      <td>1</td>\n",
       "      <td>85</td>\n",
       "      <td>66</td>\n",
       "      <td>29</td>\n",
       "      <td>0</td>\n",
       "      <td>26.6</td>\n",
       "      <td>0.351</td>\n",
       "      <td>31</td>\n",
       "      <td>0</td>\n",
       "    </tr>\n",
       "    <tr>\n",
       "      <th>2</th>\n",
       "      <td>8</td>\n",
       "      <td>183</td>\n",
       "      <td>64</td>\n",
       "      <td>0</td>\n",
       "      <td>0</td>\n",
       "      <td>23.3</td>\n",
       "      <td>0.672</td>\n",
       "      <td>32</td>\n",
       "      <td>1</td>\n",
       "    </tr>\n",
       "    <tr>\n",
       "      <th>3</th>\n",
       "      <td>1</td>\n",
       "      <td>89</td>\n",
       "      <td>66</td>\n",
       "      <td>23</td>\n",
       "      <td>94</td>\n",
       "      <td>28.1</td>\n",
       "      <td>0.167</td>\n",
       "      <td>21</td>\n",
       "      <td>0</td>\n",
       "    </tr>\n",
       "    <tr>\n",
       "      <th>4</th>\n",
       "      <td>0</td>\n",
       "      <td>137</td>\n",
       "      <td>40</td>\n",
       "      <td>35</td>\n",
       "      <td>168</td>\n",
       "      <td>43.1</td>\n",
       "      <td>2.288</td>\n",
       "      <td>33</td>\n",
       "      <td>1</td>\n",
       "    </tr>\n",
       "  </tbody>\n",
       "</table>\n",
       "</div>"
      ],
      "text/plain": [
       "   Pregnancies  Glucose  BloodPressure  SkinThickness  Insulin   BMI  \\\n",
       "0            6      148             72             35        0  33.6   \n",
       "1            1       85             66             29        0  26.6   \n",
       "2            8      183             64              0        0  23.3   \n",
       "3            1       89             66             23       94  28.1   \n",
       "4            0      137             40             35      168  43.1   \n",
       "\n",
       "   DiabetesPedigreeFunction  Age  Outcome  \n",
       "0                     0.627   50        1  \n",
       "1                     0.351   31        0  \n",
       "2                     0.672   32        1  \n",
       "3                     0.167   21        0  \n",
       "4                     2.288   33        1  "
      ]
     },
     "execution_count": 3,
     "metadata": {},
     "output_type": "execute_result"
    }
   ],
   "source": [
    "df_diab.head()"
   ]
  },
  {
   "cell_type": "code",
   "execution_count": 4,
   "id": "6f76f400-184d-4d40-ad6b-60f8cfd46de9",
   "metadata": {},
   "outputs": [
    {
     "data": {
      "text/plain": [
       "(768, 9)"
      ]
     },
     "execution_count": 4,
     "metadata": {},
     "output_type": "execute_result"
    }
   ],
   "source": [
    "df_diab.shape"
   ]
  },
  {
   "cell_type": "code",
   "execution_count": 5,
   "id": "1a6c4030-1aee-47f1-bfcb-5d30213fdb0a",
   "metadata": {},
   "outputs": [
    {
     "data": {
      "text/plain": [
       "array([1, 0])"
      ]
     },
     "execution_count": 5,
     "metadata": {},
     "output_type": "execute_result"
    }
   ],
   "source": [
    "df_diab.Outcome.unique()"
   ]
  },
  {
   "cell_type": "code",
   "execution_count": 6,
   "id": "3c0c67d7-fec6-44c5-94c1-9a3f6660d87f",
   "metadata": {},
   "outputs": [
    {
     "data": {
      "text/plain": [
       "Pregnancies                 0\n",
       "Glucose                     0\n",
       "BloodPressure               0\n",
       "SkinThickness               0\n",
       "Insulin                     0\n",
       "BMI                         0\n",
       "DiabetesPedigreeFunction    0\n",
       "Age                         0\n",
       "Outcome                     0\n",
       "dtype: int64"
      ]
     },
     "execution_count": 6,
     "metadata": {},
     "output_type": "execute_result"
    }
   ],
   "source": [
    "df_diab.isna().sum()"
   ]
  },
  {
   "cell_type": "code",
   "execution_count": 7,
   "id": "9bb6fc82-c903-4440-bbfc-9d7ca87465ca",
   "metadata": {},
   "outputs": [],
   "source": [
    "X = df_diab.drop(['Outcome'],axis=1)\n",
    "y = df_diab['Outcome']"
   ]
  },
  {
   "cell_type": "code",
   "execution_count": 8,
   "id": "b390e395-80e8-4903-91e1-c9a1b9946432",
   "metadata": {},
   "outputs": [],
   "source": [
    "np.random.seed(12345)"
   ]
  },
  {
   "cell_type": "code",
   "execution_count": 9,
   "id": "17b06800-3437-4f35-96f8-13fbcc67628f",
   "metadata": {},
   "outputs": [],
   "source": [
    "from sklearn.model_selection import train_test_split"
   ]
  },
  {
   "cell_type": "code",
   "execution_count": 10,
   "id": "4750bdbe-c8c4-4ec2-9424-377492df3e93",
   "metadata": {},
   "outputs": [],
   "source": [
    "X_train, X_test, y_train,y_test = train_test_split(X,\n",
    "                                                   y,\n",
    "                                                   stratify = y,\n",
    "                                                   test_size=0.2,\n",
    "                                                   random_state=12345)"
   ]
  },
  {
   "cell_type": "code",
   "execution_count": 11,
   "id": "06496bb0-5fda-466c-b58f-ad2f1b88785a",
   "metadata": {},
   "outputs": [
    {
     "data": {
      "text/plain": [
       "(614, 8)"
      ]
     },
     "execution_count": 11,
     "metadata": {},
     "output_type": "execute_result"
    }
   ],
   "source": [
    "X_train.shape"
   ]
  },
  {
   "cell_type": "code",
   "execution_count": 12,
   "id": "5ca2c389-5256-4455-9b4d-c0fd3fc9d166",
   "metadata": {},
   "outputs": [
    {
     "data": {
      "text/plain": [
       "(154, 8)"
      ]
     },
     "execution_count": 12,
     "metadata": {},
     "output_type": "execute_result"
    }
   ],
   "source": [
    "X_test.shape"
   ]
  },
  {
   "cell_type": "code",
   "execution_count": 13,
   "id": "c49ec3ef-1f00-475d-ac24-43cffb4974b2",
   "metadata": {},
   "outputs": [],
   "source": [
    "from sklearn.preprocessing import StandardScaler"
   ]
  },
  {
   "cell_type": "code",
   "execution_count": 14,
   "id": "b2619fcb-0182-4fbe-bc3f-eea81a9d9e1a",
   "metadata": {},
   "outputs": [],
   "source": [
    "# X-scaled = (X - mean)/sd -> z value\n",
    "\n",
    "scaler = StandardScaler()\n",
    "X_train_scaled = scaler.fit_transform(X_train)\n",
    "X_test_scaled = scaler.transform(X_test)"
   ]
  },
  {
   "cell_type": "code",
   "execution_count": 15,
   "id": "d408f475-5c67-4f1d-ba17-b11ed7505396",
   "metadata": {},
   "outputs": [],
   "source": [
    "import tensorflow as tf"
   ]
  },
  {
   "cell_type": "code",
   "execution_count": 16,
   "id": "4b5efbaf-66d7-4e8e-95ac-9434f1d8cfb7",
   "metadata": {},
   "outputs": [
    {
     "name": "stdout",
     "output_type": "stream",
     "text": [
      "2.8.0\n"
     ]
    }
   ],
   "source": [
    "print(tf.__version__)"
   ]
  },
  {
   "cell_type": "code",
   "execution_count": 17,
   "id": "200df40a-fccf-43dd-9393-302c44f9935b",
   "metadata": {},
   "outputs": [],
   "source": [
    "from tensorflow.keras.models import Sequential"
   ]
  },
  {
   "cell_type": "code",
   "execution_count": 18,
   "id": "8ccb2549-8af0-42ec-b077-4ebdd764c162",
   "metadata": {},
   "outputs": [],
   "source": [
    "from tensorflow.keras.layers import Dense, Input"
   ]
  },
  {
   "cell_type": "code",
   "execution_count": 19,
   "id": "5fede699-aebf-4753-897a-6faf3cbad9c0",
   "metadata": {},
   "outputs": [],
   "source": [
    "model = Sequential()"
   ]
  },
  {
   "cell_type": "code",
   "execution_count": 20,
   "id": "4dd59932-4b7c-43ae-afee-680ddf2039dc",
   "metadata": {},
   "outputs": [
    {
     "data": {
      "text/plain": [
       "8"
      ]
     },
     "execution_count": 20,
     "metadata": {},
     "output_type": "execute_result"
    }
   ],
   "source": [
    "X_train_scaled.shape[1]"
   ]
  },
  {
   "cell_type": "code",
   "execution_count": 21,
   "id": "ee925079-e57f-4cdb-9adb-659a0cde45f1",
   "metadata": {},
   "outputs": [],
   "source": [
    "model.add(Input(shape = (X_train_scaled.shape[1],))) # Input Layer"
   ]
  },
  {
   "cell_type": "code",
   "execution_count": 22,
   "id": "a9bf1882-dc8e-431f-aae3-a6310be02a04",
   "metadata": {},
   "outputs": [],
   "source": [
    "# First Hidden Layer - 128 neurons, Relu activation\n",
    "model.add(Dense(units=128,\n",
    "                activation='relu'\n",
    "         ))"
   ]
  },
  {
   "cell_type": "code",
   "execution_count": 23,
   "id": "abdee2a8-4227-435e-9988-8818297124f0",
   "metadata": {},
   "outputs": [],
   "source": [
    "# Second Hidden Layer - 64 neurons, Relu activation\n",
    "model.add(Dense(units=64, activation='relu'))\n",
    "\n",
    "# Third Hidden Layer 32, relu activation\n",
    "model.add(Dense(units=32, activation='relu'))"
   ]
  },
  {
   "cell_type": "code",
   "execution_count": 24,
   "id": "0ab34cf7-24e0-44e7-a322-12afd83df3d5",
   "metadata": {},
   "outputs": [],
   "source": [
    "# Output layer - Sigmoid\n",
    "model.add(Dense(units=1, activation='sigmoid'))"
   ]
  },
  {
   "cell_type": "code",
   "execution_count": 25,
   "id": "9c3805bb-745c-4770-a588-e9ee219aedba",
   "metadata": {},
   "outputs": [
    {
     "name": "stdout",
     "output_type": "stream",
     "text": [
      "Model: \"sequential\"\n",
      "_________________________________________________________________\n",
      " Layer (type)                Output Shape              Param #   \n",
      "=================================================================\n",
      " dense (Dense)               (None, 128)               1152      \n",
      "                                                                 \n",
      " dense_1 (Dense)             (None, 64)                8256      \n",
      "                                                                 \n",
      " dense_2 (Dense)             (None, 32)                2080      \n",
      "                                                                 \n",
      " dense_3 (Dense)             (None, 1)                 33        \n",
      "                                                                 \n",
      "=================================================================\n",
      "Total params: 11,521\n",
      "Trainable params: 11,521\n",
      "Non-trainable params: 0\n",
      "_________________________________________________________________\n"
     ]
    }
   ],
   "source": [
    "model.summary()"
   ]
  },
  {
   "cell_type": "code",
   "execution_count": 28,
   "id": "4a391017-8c71-4ecc-9cb2-52427b428751",
   "metadata": {},
   "outputs": [
    {
     "data": {
      "text/plain": [
       "2080"
      ]
     },
     "execution_count": 28,
     "metadata": {},
     "output_type": "execute_result"
    }
   ],
   "source": [
    "#(8+1)*128\n",
    "#(128+1)*64\n",
    "(64+1)*32"
   ]
  },
  {
   "cell_type": "code",
   "execution_count": 29,
   "id": "68f59802-90f6-46a3-8c7f-a73e6f84285b",
   "metadata": {},
   "outputs": [
    {
     "data": {
      "text/plain": [
       "11521"
      ]
     },
     "execution_count": 29,
     "metadata": {},
     "output_type": "execute_result"
    }
   ],
   "source": [
    "(1152+8256+2080+33)"
   ]
  },
  {
   "cell_type": "code",
   "execution_count": 30,
   "id": "c358a15e-1171-49c1-813a-562a7f2d0a24",
   "metadata": {},
   "outputs": [],
   "source": [
    "model.compile(optimizer='adam', # Variant of Gradient Descent\n",
    "              loss= 'binary_crossentropy', # Log Loss or Binary Cross Entropy\n",
    "              metrics=['accuracy']) # Monitor Accuracy"
   ]
  },
  {
   "cell_type": "code",
   "execution_count": 31,
   "id": "fa21c2b4-cf58-414e-972e-a596d5483bdf",
   "metadata": {},
   "outputs": [
    {
     "name": "stdout",
     "output_type": "stream",
     "text": [
      "Epoch 1/100\n",
      "20/20 [==============================] - 1s 21ms/step - loss: 0.6432 - accuracy: 0.6287 - val_loss: 0.5601 - val_accuracy: 0.7338\n",
      "Epoch 2/100\n",
      "20/20 [==============================] - 0s 6ms/step - loss: 0.5267 - accuracy: 0.7524 - val_loss: 0.4793 - val_accuracy: 0.7922\n",
      "Epoch 3/100\n",
      "20/20 [==============================] - 0s 6ms/step - loss: 0.4839 - accuracy: 0.7720 - val_loss: 0.4509 - val_accuracy: 0.7727\n",
      "Epoch 4/100\n",
      "20/20 [==============================] - 0s 7ms/step - loss: 0.4632 - accuracy: 0.7818 - val_loss: 0.4337 - val_accuracy: 0.7987\n",
      "Epoch 5/100\n",
      "20/20 [==============================] - 0s 5ms/step - loss: 0.4501 - accuracy: 0.7899 - val_loss: 0.4384 - val_accuracy: 0.8052\n",
      "Epoch 6/100\n",
      "20/20 [==============================] - 0s 6ms/step - loss: 0.4450 - accuracy: 0.7834 - val_loss: 0.4282 - val_accuracy: 0.7857\n",
      "Epoch 7/100\n",
      "20/20 [==============================] - 0s 10ms/step - loss: 0.4363 - accuracy: 0.7932 - val_loss: 0.4255 - val_accuracy: 0.7857\n",
      "Epoch 8/100\n",
      "20/20 [==============================] - 0s 7ms/step - loss: 0.4346 - accuracy: 0.7704 - val_loss: 0.4283 - val_accuracy: 0.7792\n",
      "Epoch 9/100\n",
      "20/20 [==============================] - 0s 5ms/step - loss: 0.4228 - accuracy: 0.7980 - val_loss: 0.4292 - val_accuracy: 0.7987\n",
      "Epoch 10/100\n",
      "20/20 [==============================] - 0s 12ms/step - loss: 0.4182 - accuracy: 0.7899 - val_loss: 0.4336 - val_accuracy: 0.7857\n",
      "Epoch 11/100\n",
      "20/20 [==============================] - 0s 7ms/step - loss: 0.4095 - accuracy: 0.8062 - val_loss: 0.4289 - val_accuracy: 0.7857\n",
      "Epoch 12/100\n",
      "20/20 [==============================] - 0s 6ms/step - loss: 0.4055 - accuracy: 0.8094 - val_loss: 0.4285 - val_accuracy: 0.7792\n",
      "Epoch 13/100\n",
      "20/20 [==============================] - 0s 5ms/step - loss: 0.3978 - accuracy: 0.8078 - val_loss: 0.4382 - val_accuracy: 0.8117\n",
      "Epoch 14/100\n",
      "20/20 [==============================] - 0s 5ms/step - loss: 0.3932 - accuracy: 0.8176 - val_loss: 0.4320 - val_accuracy: 0.7727\n",
      "Epoch 15/100\n",
      "20/20 [==============================] - 0s 5ms/step - loss: 0.3880 - accuracy: 0.8355 - val_loss: 0.4453 - val_accuracy: 0.7922\n",
      "Epoch 16/100\n",
      "20/20 [==============================] - 0s 6ms/step - loss: 0.3896 - accuracy: 0.8225 - val_loss: 0.4318 - val_accuracy: 0.8052\n",
      "Epoch 17/100\n",
      "20/20 [==============================] - 0s 7ms/step - loss: 0.3774 - accuracy: 0.8094 - val_loss: 0.4321 - val_accuracy: 0.7792\n",
      "Epoch 18/100\n",
      "20/20 [==============================] - 0s 6ms/step - loss: 0.3780 - accuracy: 0.8176 - val_loss: 0.4536 - val_accuracy: 0.7662\n",
      "Epoch 19/100\n",
      "20/20 [==============================] - 0s 7ms/step - loss: 0.3700 - accuracy: 0.8355 - val_loss: 0.4406 - val_accuracy: 0.7987\n",
      "Epoch 20/100\n",
      "20/20 [==============================] - 0s 5ms/step - loss: 0.3625 - accuracy: 0.8290 - val_loss: 0.4394 - val_accuracy: 0.7857\n",
      "Epoch 21/100\n",
      "20/20 [==============================] - 0s 5ms/step - loss: 0.3548 - accuracy: 0.8339 - val_loss: 0.4465 - val_accuracy: 0.7857\n",
      "Epoch 22/100\n",
      "20/20 [==============================] - 0s 6ms/step - loss: 0.3507 - accuracy: 0.8485 - val_loss: 0.4474 - val_accuracy: 0.7792\n",
      "Epoch 23/100\n",
      "20/20 [==============================] - 0s 5ms/step - loss: 0.3457 - accuracy: 0.8469 - val_loss: 0.4363 - val_accuracy: 0.7662\n",
      "Epoch 24/100\n",
      "20/20 [==============================] - 0s 5ms/step - loss: 0.3408 - accuracy: 0.8567 - val_loss: 0.4501 - val_accuracy: 0.7662\n",
      "Epoch 25/100\n",
      "20/20 [==============================] - 0s 4ms/step - loss: 0.3331 - accuracy: 0.8534 - val_loss: 0.4528 - val_accuracy: 0.7597\n",
      "Epoch 26/100\n",
      "20/20 [==============================] - 0s 5ms/step - loss: 0.3351 - accuracy: 0.8518 - val_loss: 0.4502 - val_accuracy: 0.7727\n",
      "Epoch 27/100\n",
      "20/20 [==============================] - 0s 4ms/step - loss: 0.3254 - accuracy: 0.8648 - val_loss: 0.4584 - val_accuracy: 0.7792\n",
      "Epoch 28/100\n",
      "20/20 [==============================] - 0s 4ms/step - loss: 0.3104 - accuracy: 0.8616 - val_loss: 0.4555 - val_accuracy: 0.7727\n",
      "Epoch 29/100\n",
      "20/20 [==============================] - 0s 5ms/step - loss: 0.3085 - accuracy: 0.8779 - val_loss: 0.4579 - val_accuracy: 0.7792\n",
      "Epoch 30/100\n",
      "20/20 [==============================] - 0s 4ms/step - loss: 0.3022 - accuracy: 0.8746 - val_loss: 0.4633 - val_accuracy: 0.7468\n",
      "Epoch 31/100\n",
      "20/20 [==============================] - 0s 4ms/step - loss: 0.2952 - accuracy: 0.8779 - val_loss: 0.4698 - val_accuracy: 0.7597\n",
      "Epoch 32/100\n",
      "20/20 [==============================] - 0s 4ms/step - loss: 0.2919 - accuracy: 0.8795 - val_loss: 0.4664 - val_accuracy: 0.7662\n",
      "Epoch 33/100\n",
      "20/20 [==============================] - 0s 4ms/step - loss: 0.2885 - accuracy: 0.8811 - val_loss: 0.5158 - val_accuracy: 0.7468\n",
      "Epoch 34/100\n",
      "20/20 [==============================] - 0s 4ms/step - loss: 0.2849 - accuracy: 0.8941 - val_loss: 0.4916 - val_accuracy: 0.7468\n",
      "Epoch 35/100\n",
      "20/20 [==============================] - 0s 4ms/step - loss: 0.2888 - accuracy: 0.8827 - val_loss: 0.5390 - val_accuracy: 0.7273\n",
      "Epoch 36/100\n",
      "20/20 [==============================] - 0s 4ms/step - loss: 0.2728 - accuracy: 0.8909 - val_loss: 0.4880 - val_accuracy: 0.7662\n",
      "Epoch 37/100\n",
      "20/20 [==============================] - 0s 4ms/step - loss: 0.2608 - accuracy: 0.8893 - val_loss: 0.5134 - val_accuracy: 0.7532\n",
      "Epoch 38/100\n",
      "20/20 [==============================] - 0s 4ms/step - loss: 0.2471 - accuracy: 0.9023 - val_loss: 0.5138 - val_accuracy: 0.7532\n",
      "Epoch 39/100\n",
      "20/20 [==============================] - 0s 4ms/step - loss: 0.2388 - accuracy: 0.9088 - val_loss: 0.5157 - val_accuracy: 0.7532\n",
      "Epoch 40/100\n",
      "20/20 [==============================] - 0s 4ms/step - loss: 0.2302 - accuracy: 0.8990 - val_loss: 0.5328 - val_accuracy: 0.7532\n",
      "Epoch 41/100\n",
      "20/20 [==============================] - 0s 4ms/step - loss: 0.2318 - accuracy: 0.9088 - val_loss: 0.5298 - val_accuracy: 0.7532\n",
      "Epoch 42/100\n",
      "20/20 [==============================] - 0s 4ms/step - loss: 0.2301 - accuracy: 0.9153 - val_loss: 0.5607 - val_accuracy: 0.7403\n",
      "Epoch 43/100\n",
      "20/20 [==============================] - 0s 5ms/step - loss: 0.2209 - accuracy: 0.9202 - val_loss: 0.5407 - val_accuracy: 0.7662\n",
      "Epoch 44/100\n",
      "20/20 [==============================] - 0s 4ms/step - loss: 0.2084 - accuracy: 0.9169 - val_loss: 0.5408 - val_accuracy: 0.7727\n",
      "Epoch 45/100\n",
      "20/20 [==============================] - 0s 4ms/step - loss: 0.2093 - accuracy: 0.9267 - val_loss: 0.5838 - val_accuracy: 0.7338\n",
      "Epoch 46/100\n",
      "20/20 [==============================] - 0s 5ms/step - loss: 0.1998 - accuracy: 0.9283 - val_loss: 0.5789 - val_accuracy: 0.7662\n",
      "Epoch 47/100\n",
      "20/20 [==============================] - 0s 4ms/step - loss: 0.1853 - accuracy: 0.9332 - val_loss: 0.6084 - val_accuracy: 0.7597\n",
      "Epoch 48/100\n",
      "20/20 [==============================] - 0s 4ms/step - loss: 0.1793 - accuracy: 0.9283 - val_loss: 0.6284 - val_accuracy: 0.7273\n",
      "Epoch 49/100\n",
      "20/20 [==============================] - 0s 4ms/step - loss: 0.1777 - accuracy: 0.9397 - val_loss: 0.6162 - val_accuracy: 0.7597\n",
      "Epoch 50/100\n",
      "20/20 [==============================] - 0s 4ms/step - loss: 0.1723 - accuracy: 0.9332 - val_loss: 0.6294 - val_accuracy: 0.7468\n",
      "Epoch 51/100\n",
      "20/20 [==============================] - 0s 4ms/step - loss: 0.1703 - accuracy: 0.9365 - val_loss: 0.6187 - val_accuracy: 0.7662\n",
      "Epoch 52/100\n",
      "20/20 [==============================] - 0s 4ms/step - loss: 0.1626 - accuracy: 0.9381 - val_loss: 0.6462 - val_accuracy: 0.7338\n",
      "Epoch 53/100\n",
      "20/20 [==============================] - 0s 4ms/step - loss: 0.1457 - accuracy: 0.9577 - val_loss: 0.6784 - val_accuracy: 0.7338\n",
      "Epoch 54/100\n",
      "20/20 [==============================] - 0s 4ms/step - loss: 0.1511 - accuracy: 0.9511 - val_loss: 0.6891 - val_accuracy: 0.7403\n",
      "Epoch 55/100\n",
      "20/20 [==============================] - 0s 4ms/step - loss: 0.1416 - accuracy: 0.9495 - val_loss: 0.6182 - val_accuracy: 0.7468\n",
      "Epoch 56/100\n",
      "20/20 [==============================] - 0s 5ms/step - loss: 0.1327 - accuracy: 0.9544 - val_loss: 0.7099 - val_accuracy: 0.7338\n",
      "Epoch 57/100\n",
      "20/20 [==============================] - 0s 4ms/step - loss: 0.1286 - accuracy: 0.9593 - val_loss: 0.6678 - val_accuracy: 0.7468\n",
      "Epoch 58/100\n",
      "20/20 [==============================] - 0s 5ms/step - loss: 0.1210 - accuracy: 0.9674 - val_loss: 0.7354 - val_accuracy: 0.7597\n",
      "Epoch 59/100\n",
      "20/20 [==============================] - 0s 4ms/step - loss: 0.1115 - accuracy: 0.9625 - val_loss: 0.7095 - val_accuracy: 0.7532\n",
      "Epoch 60/100\n",
      "20/20 [==============================] - 0s 5ms/step - loss: 0.1139 - accuracy: 0.9642 - val_loss: 0.7774 - val_accuracy: 0.7403\n",
      "Epoch 61/100\n",
      "20/20 [==============================] - 0s 4ms/step - loss: 0.1367 - accuracy: 0.9430 - val_loss: 0.8021 - val_accuracy: 0.7338\n",
      "Epoch 62/100\n",
      "20/20 [==============================] - 0s 4ms/step - loss: 0.1253 - accuracy: 0.9495 - val_loss: 0.7108 - val_accuracy: 0.7468\n",
      "Epoch 63/100\n",
      "20/20 [==============================] - 0s 5ms/step - loss: 0.1233 - accuracy: 0.9446 - val_loss: 0.7740 - val_accuracy: 0.7662\n",
      "Epoch 64/100\n",
      "20/20 [==============================] - 0s 5ms/step - loss: 0.1239 - accuracy: 0.9593 - val_loss: 0.7528 - val_accuracy: 0.7338\n",
      "Epoch 65/100\n",
      "20/20 [==============================] - 0s 4ms/step - loss: 0.1052 - accuracy: 0.9674 - val_loss: 0.8455 - val_accuracy: 0.7597\n",
      "Epoch 66/100\n",
      "20/20 [==============================] - 0s 5ms/step - loss: 0.1125 - accuracy: 0.9625 - val_loss: 0.7793 - val_accuracy: 0.7338\n",
      "Epoch 67/100\n",
      "20/20 [==============================] - 0s 4ms/step - loss: 0.1058 - accuracy: 0.9642 - val_loss: 0.8112 - val_accuracy: 0.7662\n",
      "Epoch 68/100\n",
      "20/20 [==============================] - 0s 5ms/step - loss: 0.0918 - accuracy: 0.9674 - val_loss: 0.7896 - val_accuracy: 0.7468\n",
      "Epoch 69/100\n",
      "20/20 [==============================] - 0s 5ms/step - loss: 0.1092 - accuracy: 0.9642 - val_loss: 0.9020 - val_accuracy: 0.7078\n",
      "Epoch 70/100\n",
      "20/20 [==============================] - 0s 5ms/step - loss: 0.0813 - accuracy: 0.9756 - val_loss: 0.8523 - val_accuracy: 0.7597\n",
      "Epoch 71/100\n",
      "20/20 [==============================] - 0s 4ms/step - loss: 0.0744 - accuracy: 0.9805 - val_loss: 0.8393 - val_accuracy: 0.7338\n",
      "Epoch 72/100\n",
      "20/20 [==============================] - 0s 4ms/step - loss: 0.0909 - accuracy: 0.9658 - val_loss: 0.8721 - val_accuracy: 0.7403\n",
      "Epoch 73/100\n",
      "20/20 [==============================] - 0s 4ms/step - loss: 0.0710 - accuracy: 0.9870 - val_loss: 0.8848 - val_accuracy: 0.7792\n",
      "Epoch 74/100\n",
      "20/20 [==============================] - 0s 4ms/step - loss: 0.0619 - accuracy: 0.9853 - val_loss: 0.9089 - val_accuracy: 0.7662\n",
      "Epoch 75/100\n",
      "20/20 [==============================] - 0s 4ms/step - loss: 0.0566 - accuracy: 0.9886 - val_loss: 0.9066 - val_accuracy: 0.7338\n",
      "Epoch 76/100\n",
      "20/20 [==============================] - 0s 4ms/step - loss: 0.0612 - accuracy: 0.9870 - val_loss: 0.9180 - val_accuracy: 0.7597\n",
      "Epoch 77/100\n",
      "20/20 [==============================] - 0s 4ms/step - loss: 0.0539 - accuracy: 0.9902 - val_loss: 0.9726 - val_accuracy: 0.7662\n",
      "Epoch 78/100\n",
      "20/20 [==============================] - 0s 4ms/step - loss: 0.0546 - accuracy: 0.9902 - val_loss: 1.0272 - val_accuracy: 0.7403\n",
      "Epoch 79/100\n",
      "20/20 [==============================] - 0s 4ms/step - loss: 0.0495 - accuracy: 0.9919 - val_loss: 1.0556 - val_accuracy: 0.7468\n",
      "Epoch 80/100\n",
      "20/20 [==============================] - 0s 4ms/step - loss: 0.0492 - accuracy: 0.9870 - val_loss: 0.9386 - val_accuracy: 0.7273\n",
      "Epoch 81/100\n",
      "20/20 [==============================] - 0s 4ms/step - loss: 0.0555 - accuracy: 0.9821 - val_loss: 0.9425 - val_accuracy: 0.7403\n",
      "Epoch 82/100\n",
      "20/20 [==============================] - 0s 4ms/step - loss: 0.0523 - accuracy: 0.9837 - val_loss: 1.0352 - val_accuracy: 0.7338\n",
      "Epoch 83/100\n",
      "20/20 [==============================] - 0s 5ms/step - loss: 0.0613 - accuracy: 0.9870 - val_loss: 1.0476 - val_accuracy: 0.7532\n",
      "Epoch 84/100\n",
      "20/20 [==============================] - 0s 4ms/step - loss: 0.0446 - accuracy: 0.9902 - val_loss: 0.9885 - val_accuracy: 0.7662\n",
      "Epoch 85/100\n",
      "20/20 [==============================] - 0s 4ms/step - loss: 0.0368 - accuracy: 0.9951 - val_loss: 1.0250 - val_accuracy: 0.7532\n",
      "Epoch 86/100\n",
      "20/20 [==============================] - 0s 5ms/step - loss: 0.0328 - accuracy: 0.9967 - val_loss: 1.0526 - val_accuracy: 0.7468\n",
      "Epoch 87/100\n",
      "20/20 [==============================] - 0s 4ms/step - loss: 0.0354 - accuracy: 0.9935 - val_loss: 1.0456 - val_accuracy: 0.7468\n",
      "Epoch 88/100\n",
      "20/20 [==============================] - 0s 4ms/step - loss: 0.0318 - accuracy: 0.9967 - val_loss: 1.0783 - val_accuracy: 0.7597\n",
      "Epoch 89/100\n",
      "20/20 [==============================] - 0s 4ms/step - loss: 0.0295 - accuracy: 0.9984 - val_loss: 1.0745 - val_accuracy: 0.7727\n",
      "Epoch 90/100\n",
      "20/20 [==============================] - 0s 4ms/step - loss: 0.0306 - accuracy: 0.9935 - val_loss: 1.0916 - val_accuracy: 0.7338\n",
      "Epoch 91/100\n",
      "20/20 [==============================] - 0s 5ms/step - loss: 0.0319 - accuracy: 0.9984 - val_loss: 1.0975 - val_accuracy: 0.7662\n",
      "Epoch 92/100\n",
      "20/20 [==============================] - 0s 5ms/step - loss: 0.0295 - accuracy: 0.9967 - val_loss: 1.0955 - val_accuracy: 0.7532\n",
      "Epoch 93/100\n",
      "20/20 [==============================] - 0s 5ms/step - loss: 0.0252 - accuracy: 0.9984 - val_loss: 1.1591 - val_accuracy: 0.7857\n",
      "Epoch 94/100\n",
      "20/20 [==============================] - 0s 5ms/step - loss: 0.0222 - accuracy: 1.0000 - val_loss: 1.1362 - val_accuracy: 0.7532\n",
      "Epoch 95/100\n",
      "20/20 [==============================] - 0s 6ms/step - loss: 0.0246 - accuracy: 0.9967 - val_loss: 1.1807 - val_accuracy: 0.7792\n",
      "Epoch 96/100\n",
      "20/20 [==============================] - 0s 8ms/step - loss: 0.0204 - accuracy: 0.9984 - val_loss: 1.1879 - val_accuracy: 0.7468\n",
      "Epoch 97/100\n",
      "20/20 [==============================] - 0s 7ms/step - loss: 0.0183 - accuracy: 1.0000 - val_loss: 1.1944 - val_accuracy: 0.7468\n",
      "Epoch 98/100\n",
      "20/20 [==============================] - 0s 6ms/step - loss: 0.0179 - accuracy: 0.9984 - val_loss: 1.2094 - val_accuracy: 0.7338\n",
      "Epoch 99/100\n",
      "20/20 [==============================] - 0s 6ms/step - loss: 0.0177 - accuracy: 1.0000 - val_loss: 1.1998 - val_accuracy: 0.7532\n",
      "Epoch 100/100\n",
      "20/20 [==============================] - 0s 4ms/step - loss: 0.0258 - accuracy: 0.9967 - val_loss: 1.2544 - val_accuracy: 0.7597\n"
     ]
    }
   ],
   "source": [
    "result = model.fit(X_train_scaled, \n",
    "                   y_train,\n",
    "                   validation_data = (X_test_scaled, y_test),\n",
    "                   epochs=100)"
   ]
  },
  {
   "cell_type": "code",
   "execution_count": 32,
   "id": "e3551df5-c612-4084-b258-e43e03fd1c01",
   "metadata": {},
   "outputs": [],
   "source": [
    "y_train_pred = model.predict(X_train_scaled)\n",
    "y_test_pred = model.predict(X_test_scaled)"
   ]
  },
  {
   "cell_type": "code",
   "execution_count": 33,
   "id": "d604102e-0602-492d-9adc-42c4a0d17410",
   "metadata": {},
   "outputs": [
    {
     "data": {
      "text/plain": [
       "array([ True])"
      ]
     },
     "execution_count": 33,
     "metadata": {},
     "output_type": "execute_result"
    }
   ],
   "source": [
    "y_train_pred[0] >=0.5"
   ]
  },
  {
   "cell_type": "code",
   "execution_count": 34,
   "id": "e1f74d2e-3ec4-4b86-8975-bacdaf8cc79b",
   "metadata": {},
   "outputs": [],
   "source": [
    "from sklearn.metrics import confusion_matrix, accuracy_score"
   ]
  },
  {
   "cell_type": "code",
   "execution_count": 35,
   "id": "c4edecff-1137-418f-8d39-21374a68f2cb",
   "metadata": {},
   "outputs": [
    {
     "data": {
      "text/plain": [
       "array([[400,   0],\n",
       "       [  0, 214]])"
      ]
     },
     "execution_count": 35,
     "metadata": {},
     "output_type": "execute_result"
    }
   ],
   "source": [
    "confusion_matrix(y_pred=y_train_pred >= 0.5, \n",
    "                 y_true = y_train)"
   ]
  },
  {
   "cell_type": "code",
   "execution_count": 36,
   "id": "ee5a513d-8de5-4b3a-9bb5-2f16a1641c50",
   "metadata": {},
   "outputs": [
    {
     "data": {
      "text/plain": [
       "1.0"
      ]
     },
     "execution_count": 36,
     "metadata": {},
     "output_type": "execute_result"
    }
   ],
   "source": [
    "accuracy_score(y_pred=y_train_pred >= 0.5, \n",
    "               y_true = y_train)"
   ]
  },
  {
   "cell_type": "code",
   "execution_count": 37,
   "id": "83c9c1c1-4b5f-4d17-9a1f-05d920609e65",
   "metadata": {},
   "outputs": [
    {
     "data": {
      "text/plain": [
       "array([[81, 19],\n",
       "       [18, 36]])"
      ]
     },
     "execution_count": 37,
     "metadata": {},
     "output_type": "execute_result"
    }
   ],
   "source": [
    "confusion_matrix(y_pred=y_test_pred >= 0.5, \n",
    "                 y_true = y_test)"
   ]
  },
  {
   "cell_type": "code",
   "execution_count": 38,
   "id": "e5c155ae-c1ab-4afb-bd8b-edc619be4cdf",
   "metadata": {},
   "outputs": [
    {
     "data": {
      "text/plain": [
       "0.7597402597402597"
      ]
     },
     "execution_count": 38,
     "metadata": {},
     "output_type": "execute_result"
    }
   ],
   "source": [
    "accuracy_score(y_pred=y_test_pred >= 0.5, \n",
    "               y_true = y_test)"
   ]
  },
  {
   "cell_type": "code",
   "execution_count": 39,
   "id": "88a8ed66-80cd-4545-812f-66e5dcd72333",
   "metadata": {},
   "outputs": [],
   "source": [
    "history = pd.DataFrame(result.history)"
   ]
  },
  {
   "cell_type": "code",
   "execution_count": 40,
   "id": "7591d6f3-113e-4751-bc90-d815427fd3d1",
   "metadata": {},
   "outputs": [
    {
     "data": {
      "text/html": [
       "<div>\n",
       "<style scoped>\n",
       "    .dataframe tbody tr th:only-of-type {\n",
       "        vertical-align: middle;\n",
       "    }\n",
       "\n",
       "    .dataframe tbody tr th {\n",
       "        vertical-align: top;\n",
       "    }\n",
       "\n",
       "    .dataframe thead th {\n",
       "        text-align: right;\n",
       "    }\n",
       "</style>\n",
       "<table border=\"1\" class=\"dataframe\">\n",
       "  <thead>\n",
       "    <tr style=\"text-align: right;\">\n",
       "      <th></th>\n",
       "      <th>loss</th>\n",
       "      <th>accuracy</th>\n",
       "      <th>val_loss</th>\n",
       "      <th>val_accuracy</th>\n",
       "    </tr>\n",
       "  </thead>\n",
       "  <tbody>\n",
       "    <tr>\n",
       "      <th>0</th>\n",
       "      <td>0.643217</td>\n",
       "      <td>0.628664</td>\n",
       "      <td>0.560087</td>\n",
       "      <td>0.733766</td>\n",
       "    </tr>\n",
       "    <tr>\n",
       "      <th>1</th>\n",
       "      <td>0.526666</td>\n",
       "      <td>0.752443</td>\n",
       "      <td>0.479271</td>\n",
       "      <td>0.792208</td>\n",
       "    </tr>\n",
       "    <tr>\n",
       "      <th>2</th>\n",
       "      <td>0.483865</td>\n",
       "      <td>0.771987</td>\n",
       "      <td>0.450894</td>\n",
       "      <td>0.772727</td>\n",
       "    </tr>\n",
       "    <tr>\n",
       "      <th>3</th>\n",
       "      <td>0.463191</td>\n",
       "      <td>0.781759</td>\n",
       "      <td>0.433671</td>\n",
       "      <td>0.798701</td>\n",
       "    </tr>\n",
       "    <tr>\n",
       "      <th>4</th>\n",
       "      <td>0.450145</td>\n",
       "      <td>0.789902</td>\n",
       "      <td>0.438443</td>\n",
       "      <td>0.805195</td>\n",
       "    </tr>\n",
       "  </tbody>\n",
       "</table>\n",
       "</div>"
      ],
      "text/plain": [
       "       loss  accuracy  val_loss  val_accuracy\n",
       "0  0.643217  0.628664  0.560087      0.733766\n",
       "1  0.526666  0.752443  0.479271      0.792208\n",
       "2  0.483865  0.771987  0.450894      0.772727\n",
       "3  0.463191  0.781759  0.433671      0.798701\n",
       "4  0.450145  0.789902  0.438443      0.805195"
      ]
     },
     "execution_count": 40,
     "metadata": {},
     "output_type": "execute_result"
    }
   ],
   "source": [
    "history.head()"
   ]
  },
  {
   "cell_type": "code",
   "execution_count": 41,
   "id": "5bc6b994-3a44-49b0-b05f-1bff291eb317",
   "metadata": {},
   "outputs": [],
   "source": [
    "import matplotlib.pyplot as plt"
   ]
  },
  {
   "cell_type": "code",
   "execution_count": 42,
   "id": "ad6b437b-a492-4ae2-b2d3-c463bbfc53e6",
   "metadata": {},
   "outputs": [
    {
     "data": {
      "image/png": "[encoded data removed]",
      "text/plain": [
       "<Figure size 1800x432 with 1 Axes>"
      ]
     },
     "metadata": {
      "needs_background": "light"
     },
     "output_type": "display_data"
    }
   ],
   "source": [
    "plt.figure(figsize = (25,6))\n",
    "plt.plot(history.val_loss, label='Test Set Loss')\n",
    "plt.plot(history.loss, label='Training Set Loss')\n",
    "plt.title('Epochs vs Loss')\n",
    "plt.xlabel('Epochs')\n",
    "plt.ylabel('Loss')\n",
    "plt.legend()\n",
    "plt.show()"
   ]
  },
  {
   "cell_type": "code",
   "execution_count": 43,
   "id": "88b30dc0-5cc8-4423-b100-46bb7b8f8497",
   "metadata": {},
   "outputs": [
    {
     "data": {
      "image/png": "[encoded data removed]",
      "text/plain": [
       "<Figure size 1080x432 with 1 Axes>"
      ]
     },
     "metadata": {
      "needs_background": "light"
     },
     "output_type": "display_data"
    }
   ],
   "source": [
    "plt.figure(figsize = (15,6))\n",
    "plt.plot(history.val_accuracy, label='Test Set Accuracy')\n",
    "plt.plot(history.accuracy, label='Training Set Accuracy')\n",
    "plt.title('Epochs vs Accuracy')\n",
    "plt.xlabel('Epochs')\n",
    "plt.ylabel('Accuracy')\n",
    "plt.legend()\n",
    "plt.show()"
   ]
  },
  {
   "cell_type": "markdown",
   "id": "9979d168-d47b-481a-a6dd-4de51af41d6b",
   "metadata": {},
   "source": [
    "# Implement Early Stopping"
   ]
  },
  {
   "cell_type": "code",
   "execution_count": 74,
   "id": "970687e6-5baa-4e94-9a0c-a6d5017c698d",
   "metadata": {},
   "outputs": [],
   "source": [
    "from tensorflow.keras.callbacks import EarlyStopping"
   ]
  },
  {
   "cell_type": "code",
   "execution_count": 75,
   "id": "fe340c34-388a-4661-b375-1b5624ab17f1",
   "metadata": {},
   "outputs": [],
   "source": [
    "tf.random.set_seed(12345)"
   ]
  },
  {
   "cell_type": "code",
   "execution_count": 76,
   "id": "bc82e9a3-4dcf-4043-879c-8e63ce840368",
   "metadata": {},
   "outputs": [],
   "source": [
    "model_es = Sequential()"
   ]
  },
  {
   "cell_type": "code",
   "execution_count": 77,
   "id": "e4cc2028-257a-4938-bfd5-095f6c16a832",
   "metadata": {},
   "outputs": [],
   "source": [
    "model_es.add(Input(shape = (X_train_scaled.shape[1],)))"
   ]
  },
  {
   "cell_type": "code",
   "execution_count": 78,
   "id": "82d39e0e-d8db-499c-b11d-02da12486d79",
   "metadata": {},
   "outputs": [],
   "source": [
    "model_es.add(Dense(units = 128, activation='relu'))"
   ]
  },
  {
   "cell_type": "code",
   "execution_count": 79,
   "id": "db7834fa-11e6-4e4a-9bcd-0c967ecdc245",
   "metadata": {},
   "outputs": [],
   "source": [
    "model_es.add(Dense(units = 64, activation = 'relu'))"
   ]
  },
  {
   "cell_type": "code",
   "execution_count": 80,
   "id": "91c5f7d9-99ee-47de-bc11-073d9e46d8f8",
   "metadata": {},
   "outputs": [],
   "source": [
    "model_es.add(Dense(units = 32, activation = 'relu'))"
   ]
  },
  {
   "cell_type": "code",
   "execution_count": 81,
   "id": "8a55cb48-f5b5-4fcf-9d9b-2383a3235d90",
   "metadata": {},
   "outputs": [],
   "source": [
    "model_es.add(Dense(units = 1, activation = 'sigmoid'))"
   ]
  },
  {
   "cell_type": "code",
   "execution_count": 82,
   "id": "3c4b7940-57ea-46a2-aa58-889387aa4849",
   "metadata": {},
   "outputs": [
    {
     "name": "stdout",
     "output_type": "stream",
     "text": [
      "Model: \"sequential_3\"\n",
      "_________________________________________________________________\n",
      " Layer (type)                Output Shape              Param #   \n",
      "=================================================================\n",
      " dense_12 (Dense)            (None, 128)               1152      \n",
      "                                                                 \n",
      " dense_13 (Dense)            (None, 64)                8256      \n",
      "                                                                 \n",
      " dense_14 (Dense)            (None, 32)                2080      \n",
      "                                                                 \n",
      " dense_15 (Dense)            (None, 1)                 33        \n",
      "                                                                 \n",
      "=================================================================\n",
      "Total params: 11,521\n",
      "Trainable params: 11,521\n",
      "Non-trainable params: 0\n",
      "_________________________________________________________________\n"
     ]
    }
   ],
   "source": [
    "model_es.summary()"
   ]
  },
  {
   "cell_type": "code",
   "execution_count": 83,
   "id": "bc879503-a99d-49aa-93ed-c9166a62e811",
   "metadata": {},
   "outputs": [],
   "source": [
    "model_es.compile(optimizer='adam',\n",
    "                 loss='binary_crossentropy',\n",
    "                 metrics = 'accuracy')"
   ]
  },
  {
   "cell_type": "code",
   "execution_count": 84,
   "id": "6b25e43d-360a-4b45-9a41-6bad11e65f55",
   "metadata": {},
   "outputs": [],
   "source": [
    "es = EarlyStopping(monitor='val_accuracy',\n",
    "                   patience = 4)"
   ]
  },
  {
   "cell_type": "code",
   "execution_count": 85,
   "id": "ea552974-465d-405b-b0fd-70222f63bb99",
   "metadata": {},
   "outputs": [
    {
     "name": "stdout",
     "output_type": "stream",
     "text": [
      "Epoch 1/100\n",
      "20/20 [==============================] - 1s 8ms/step - loss: 0.5866 - accuracy: 0.6954 - val_loss: 0.5023 - val_accuracy: 0.7468\n",
      "Epoch 2/100\n",
      "20/20 [==============================] - 0s 2ms/step - loss: 0.4881 - accuracy: 0.7638 - val_loss: 0.4486 - val_accuracy: 0.7792\n",
      "Epoch 3/100\n",
      "20/20 [==============================] - 0s 2ms/step - loss: 0.4638 - accuracy: 0.7883 - val_loss: 0.4322 - val_accuracy: 0.7922\n",
      "Epoch 4/100\n",
      "20/20 [==============================] - 0s 3ms/step - loss: 0.4540 - accuracy: 0.7818 - val_loss: 0.4403 - val_accuracy: 0.7922\n",
      "Epoch 5/100\n",
      "20/20 [==============================] - 0s 2ms/step - loss: 0.4432 - accuracy: 0.7932 - val_loss: 0.4364 - val_accuracy: 0.7792\n",
      "Epoch 6/100\n",
      "20/20 [==============================] - 0s 2ms/step - loss: 0.4410 - accuracy: 0.7899 - val_loss: 0.4399 - val_accuracy: 0.7597\n",
      "Epoch 7/100\n",
      "20/20 [==============================] - 0s 2ms/step - loss: 0.4328 - accuracy: 0.7980 - val_loss: 0.4297 - val_accuracy: 0.7922\n"
     ]
    }
   ],
   "source": [
    "result_es = model_es.fit(X_train_scaled,\n",
    "                         y_train,\n",
    "                         validation_data = (X_test_scaled, y_test),\n",
    "                         epochs = 100,\n",
    "                         callbacks=[es]\n",
    "                        )"
   ]
  },
  {
   "cell_type": "code",
   "execution_count": 86,
   "id": "86a16997-89a6-49b7-af54-ce20424eac65",
   "metadata": {},
   "outputs": [],
   "source": [
    "history_es = pd.DataFrame(result_es.history)"
   ]
  },
  {
   "cell_type": "code",
   "execution_count": 87,
   "id": "dba40d6e-4168-4b90-be5b-32065ea2b492",
   "metadata": {},
   "outputs": [
    {
     "data": {
      "image/png": "[encoded data removed]",
      "text/plain": [
       "<Figure size 1080x288 with 1 Axes>"
      ]
     },
     "metadata": {
      "needs_background": "light"
     },
     "output_type": "display_data"
    }
   ],
   "source": [
    "plt.figure(figsize = (15,4))\n",
    "plt.plot(history_es.val_loss, label='Test Set Loss')\n",
    "plt.plot(history_es.loss, label='Training Set Loss')\n",
    "plt.title('Epochs vs Loss (Early Stopping)')\n",
    "plt.xlabel('Epochs')\n",
    "plt.ylabel('Loss')\n",
    "plt.legend()\n",
    "plt.show()"
   ]
  },
  {
   "cell_type": "code",
   "execution_count": 88,
   "id": "d6c10c25-ce5e-4752-ace3-6bd0f9ad6902",
   "metadata": {},
   "outputs": [
    {
     "data": {
      "image/png": "[encoded data removed]",
      "text/plain": [
       "<Figure size 1080x288 with 1 Axes>"
      ]
     },
     "metadata": {
      "needs_background": "light"
     },
     "output_type": "display_data"
    }
   ],
   "source": [
    "plt.figure(figsize = (15,4))\n",
    "plt.plot(history_es.val_accuracy, label='Test Set Accuracy')\n",
    "plt.plot(history_es.accuracy, label='Training Set Accuracy')\n",
    "plt.title('Epochs vs Accuracy (Early Stopping)')\n",
    "plt.xlabel('Epochs')\n",
    "plt.ylabel('Accuracy')\n",
    "plt.legend()\n",
    "plt.show()"
   ]
  },
  {
   "cell_type": "markdown",
   "id": "154daf81-3905-4ebf-a1b7-e319fe08d5ba",
   "metadata": {},
   "source": [
    "# Implementing L1 Regularization"
   ]
  },
  {
   "cell_type": "code",
   "execution_count": 45,
   "id": "20d11a35-f5a7-43bb-8498-1070637f1056",
   "metadata": {},
   "outputs": [],
   "source": [
    "tf.random.set_seed(12345)"
   ]
  },
  {
   "cell_type": "code",
   "execution_count": 46,
   "id": "ae44ca9e-4402-4edd-b182-dfc9e00233de",
   "metadata": {},
   "outputs": [],
   "source": [
    "model_reg = Sequential()"
   ]
  },
  {
   "cell_type": "code",
   "execution_count": 47,
   "id": "688ffb6f-f7c1-431a-81a3-b40cc930e4dd",
   "metadata": {},
   "outputs": [],
   "source": [
    "model_reg.add(Input(shape = (X_train_scaled.shape[1],)))"
   ]
  },
  {
   "cell_type": "code",
   "execution_count": 48,
   "id": "ce7a5ff9-481b-43a1-81f8-c1f033d22609",
   "metadata": {},
   "outputs": [],
   "source": [
    "# First Hidden Layer - 128 neurons, Relu activation, L1 Regularizer for the Kernel\n",
    "model_reg.add(Dense(units=128,\n",
    "                    activation='relu',\n",
    "                    kernel_regularizer = tf.keras.regularizers.L1()\n",
    "                   )\n",
    "             )"
   ]
  },
  {
   "cell_type": "code",
   "execution_count": 49,
   "id": "e8f1c3ce-d58e-42f8-88b1-b9b9bd5bafc5",
   "metadata": {},
   "outputs": [],
   "source": [
    "# Second Hidden Layer - 64 neurons, Relu activation\n",
    "model_reg.add(Dense(units=64, activation='relu'))"
   ]
  },
  {
   "cell_type": "code",
   "execution_count": 50,
   "id": "8c96a8c9-9084-4431-8220-8ecb53d0c6c7",
   "metadata": {},
   "outputs": [],
   "source": [
    "# Third Hidden Layer 32, relu\n",
    "model_reg.add(Dense(units=32, activation='relu'))"
   ]
  },
  {
   "cell_type": "code",
   "execution_count": 51,
   "id": "923a581e-28b9-494e-9ec1-c915ca67b193",
   "metadata": {},
   "outputs": [],
   "source": [
    "# Output layer - Sigmoid\n",
    "model_reg.add(Dense(units=1, activation='sigmoid'))"
   ]
  },
  {
   "cell_type": "code",
   "execution_count": 52,
   "id": "51acb16a-905e-4772-9924-0a2ddcd6f399",
   "metadata": {},
   "outputs": [
    {
     "name": "stdout",
     "output_type": "stream",
     "text": [
      "Model: \"sequential_1\"\n",
      "_________________________________________________________________\n",
      " Layer (type)                Output Shape              Param #   \n",
      "=================================================================\n",
      " dense_4 (Dense)             (None, 128)               1152      \n",
      "                                                                 \n",
      " dense_5 (Dense)             (None, 64)                8256      \n",
      "                                                                 \n",
      " dense_6 (Dense)             (None, 32)                2080      \n",
      "                                                                 \n",
      " dense_7 (Dense)             (None, 1)                 33        \n",
      "                                                                 \n",
      "=================================================================\n",
      "Total params: 11,521\n",
      "Trainable params: 11,521\n",
      "Non-trainable params: 0\n",
      "_________________________________________________________________\n"
     ]
    }
   ],
   "source": [
    "model_reg.summary()"
   ]
  },
  {
   "cell_type": "code",
   "execution_count": 53,
   "id": "23f56ac8-e6b1-4e4f-8623-26f0e0995a09",
   "metadata": {},
   "outputs": [],
   "source": [
    "model_reg.compile(optimizer = 'adam',\n",
    "                  loss = 'binary_crossentropy',\n",
    "                  metrics = 'accuracy')"
   ]
  },
  {
   "cell_type": "code",
   "execution_count": 54,
   "id": "4b354a99-cb33-4021-970b-ac5171d07e96",
   "metadata": {},
   "outputs": [
    {
     "name": "stdout",
     "output_type": "stream",
     "text": [
      "Model: \"sequential_1\"\n",
      "_________________________________________________________________\n",
      " Layer (type)                Output Shape              Param #   \n",
      "=================================================================\n",
      " dense_4 (Dense)             (None, 128)               1152      \n",
      "                                                                 \n",
      " dense_5 (Dense)             (None, 64)                8256      \n",
      "                                                                 \n",
      " dense_6 (Dense)             (None, 32)                2080      \n",
      "                                                                 \n",
      " dense_7 (Dense)             (None, 1)                 33        \n",
      "                                                                 \n",
      "=================================================================\n",
      "Total params: 11,521\n",
      "Trainable params: 11,521\n",
      "Non-trainable params: 0\n",
      "_________________________________________________________________\n"
     ]
    }
   ],
   "source": [
    "model_reg.summary()"
   ]
  },
  {
   "cell_type": "code",
   "execution_count": 55,
   "id": "e5efd711-de67-461b-b929-6ee040693a3b",
   "metadata": {},
   "outputs": [
    {
     "name": "stdout",
     "output_type": "stream",
     "text": [
      "Epoch 1/100\n",
      "20/20 [==============================] - 1s 9ms/step - loss: 1.5808 - accuracy: 0.6857 - val_loss: 1.4197 - val_accuracy: 0.7468\n",
      "Epoch 2/100\n",
      "20/20 [==============================] - 0s 3ms/step - loss: 1.3391 - accuracy: 0.7606 - val_loss: 1.2281 - val_accuracy: 0.7857\n",
      "Epoch 3/100\n",
      "20/20 [==============================] - 0s 2ms/step - loss: 1.1797 - accuracy: 0.7769 - val_loss: 1.0824 - val_accuracy: 0.7792\n",
      "Epoch 4/100\n",
      "20/20 [==============================] - 0s 3ms/step - loss: 1.0560 - accuracy: 0.7769 - val_loss: 0.9801 - val_accuracy: 0.7727\n",
      "Epoch 5/100\n",
      "20/20 [==============================] - 0s 3ms/step - loss: 0.9510 - accuracy: 0.7899 - val_loss: 0.8859 - val_accuracy: 0.7857\n",
      "Epoch 6/100\n",
      "20/20 [==============================] - 0s 3ms/step - loss: 0.8677 - accuracy: 0.7883 - val_loss: 0.8097 - val_accuracy: 0.7727\n",
      "Epoch 7/100\n",
      "20/20 [==============================] - 0s 3ms/step - loss: 0.7939 - accuracy: 0.7850 - val_loss: 0.7352 - val_accuracy: 0.7857\n",
      "Epoch 8/100\n",
      "20/20 [==============================] - 0s 3ms/step - loss: 0.7333 - accuracy: 0.7834 - val_loss: 0.6825 - val_accuracy: 0.7922\n",
      "Epoch 9/100\n",
      "20/20 [==============================] - 0s 3ms/step - loss: 0.6758 - accuracy: 0.7785 - val_loss: 0.6360 - val_accuracy: 0.7922\n",
      "Epoch 10/100\n",
      "20/20 [==============================] - 0s 3ms/step - loss: 0.6350 - accuracy: 0.7818 - val_loss: 0.5970 - val_accuracy: 0.7857\n",
      "Epoch 11/100\n",
      "20/20 [==============================] - 0s 3ms/step - loss: 0.6059 - accuracy: 0.7785 - val_loss: 0.5780 - val_accuracy: 0.7727\n",
      "Epoch 12/100\n",
      "20/20 [==============================] - 0s 3ms/step - loss: 0.5949 - accuracy: 0.7785 - val_loss: 0.5488 - val_accuracy: 0.7922\n",
      "Epoch 13/100\n",
      "20/20 [==============================] - 0s 3ms/step - loss: 0.5761 - accuracy: 0.7752 - val_loss: 0.5481 - val_accuracy: 0.7662\n",
      "Epoch 14/100\n",
      "20/20 [==============================] - 0s 3ms/step - loss: 0.5626 - accuracy: 0.7752 - val_loss: 0.5328 - val_accuracy: 0.7727\n",
      "Epoch 15/100\n",
      "20/20 [==============================] - 0s 2ms/step - loss: 0.5479 - accuracy: 0.7883 - val_loss: 0.5158 - val_accuracy: 0.7792\n",
      "Epoch 16/100\n",
      "20/20 [==============================] - 0s 3ms/step - loss: 0.5380 - accuracy: 0.7769 - val_loss: 0.5176 - val_accuracy: 0.7857\n",
      "Epoch 17/100\n",
      "20/20 [==============================] - 0s 3ms/step - loss: 0.5316 - accuracy: 0.7801 - val_loss: 0.5037 - val_accuracy: 0.7792\n",
      "Epoch 18/100\n",
      "20/20 [==============================] - 0s 3ms/step - loss: 0.5188 - accuracy: 0.7834 - val_loss: 0.4929 - val_accuracy: 0.7792\n",
      "Epoch 19/100\n",
      "20/20 [==============================] - 0s 3ms/step - loss: 0.5164 - accuracy: 0.7752 - val_loss: 0.4959 - val_accuracy: 0.7727\n",
      "Epoch 20/100\n",
      "20/20 [==============================] - 0s 3ms/step - loss: 0.5173 - accuracy: 0.7801 - val_loss: 0.4965 - val_accuracy: 0.7922\n",
      "Epoch 21/100\n",
      "20/20 [==============================] - 0s 3ms/step - loss: 0.5171 - accuracy: 0.7785 - val_loss: 0.4910 - val_accuracy: 0.7922\n",
      "Epoch 22/100\n",
      "20/20 [==============================] - 0s 3ms/step - loss: 0.5051 - accuracy: 0.7850 - val_loss: 0.4854 - val_accuracy: 0.7792\n",
      "Epoch 23/100\n",
      "20/20 [==============================] - 0s 3ms/step - loss: 0.5107 - accuracy: 0.7818 - val_loss: 0.4836 - val_accuracy: 0.7857\n",
      "Epoch 24/100\n",
      "20/20 [==============================] - 0s 2ms/step - loss: 0.4990 - accuracy: 0.7948 - val_loss: 0.4904 - val_accuracy: 0.7597\n",
      "Epoch 25/100\n",
      "20/20 [==============================] - 0s 2ms/step - loss: 0.5035 - accuracy: 0.7932 - val_loss: 0.4845 - val_accuracy: 0.7792\n",
      "Epoch 26/100\n",
      "20/20 [==============================] - 0s 2ms/step - loss: 0.4973 - accuracy: 0.7850 - val_loss: 0.4821 - val_accuracy: 0.7662\n",
      "Epoch 27/100\n",
      "20/20 [==============================] - 0s 2ms/step - loss: 0.4934 - accuracy: 0.7915 - val_loss: 0.4782 - val_accuracy: 0.7792\n",
      "Epoch 28/100\n",
      "20/20 [==============================] - 0s 2ms/step - loss: 0.4985 - accuracy: 0.7866 - val_loss: 0.5046 - val_accuracy: 0.7792\n",
      "Epoch 29/100\n",
      "20/20 [==============================] - 0s 2ms/step - loss: 0.5072 - accuracy: 0.7687 - val_loss: 0.4804 - val_accuracy: 0.7662\n",
      "Epoch 30/100\n",
      "20/20 [==============================] - 0s 3ms/step - loss: 0.4879 - accuracy: 0.7899 - val_loss: 0.4679 - val_accuracy: 0.7727\n",
      "Epoch 31/100\n",
      "20/20 [==============================] - 0s 2ms/step - loss: 0.4880 - accuracy: 0.7850 - val_loss: 0.4826 - val_accuracy: 0.7727\n",
      "Epoch 32/100\n",
      "20/20 [==============================] - 0s 3ms/step - loss: 0.4828 - accuracy: 0.7850 - val_loss: 0.4708 - val_accuracy: 0.7857\n",
      "Epoch 33/100\n",
      "20/20 [==============================] - 0s 3ms/step - loss: 0.4845 - accuracy: 0.7899 - val_loss: 0.4713 - val_accuracy: 0.7922\n",
      "Epoch 34/100\n",
      "20/20 [==============================] - 0s 2ms/step - loss: 0.4835 - accuracy: 0.7948 - val_loss: 0.4689 - val_accuracy: 0.7857\n",
      "Epoch 35/100\n",
      "20/20 [==============================] - 0s 2ms/step - loss: 0.4788 - accuracy: 0.7997 - val_loss: 0.4799 - val_accuracy: 0.7597\n",
      "Epoch 36/100\n",
      "20/20 [==============================] - 0s 2ms/step - loss: 0.4765 - accuracy: 0.7932 - val_loss: 0.4728 - val_accuracy: 0.7922\n",
      "Epoch 37/100\n",
      "20/20 [==============================] - 0s 2ms/step - loss: 0.4903 - accuracy: 0.7752 - val_loss: 0.4776 - val_accuracy: 0.7662\n",
      "Epoch 38/100\n",
      "20/20 [==============================] - 0s 3ms/step - loss: 0.4789 - accuracy: 0.7964 - val_loss: 0.4646 - val_accuracy: 0.7857\n",
      "Epoch 39/100\n",
      "20/20 [==============================] - 0s 2ms/step - loss: 0.4860 - accuracy: 0.7948 - val_loss: 0.4816 - val_accuracy: 0.7792\n",
      "Epoch 40/100\n",
      "20/20 [==============================] - 0s 2ms/step - loss: 0.4756 - accuracy: 0.7883 - val_loss: 0.4703 - val_accuracy: 0.7662\n",
      "Epoch 41/100\n",
      "20/20 [==============================] - 0s 3ms/step - loss: 0.4740 - accuracy: 0.7948 - val_loss: 0.4775 - val_accuracy: 0.7662\n",
      "Epoch 42/100\n",
      "20/20 [==============================] - 0s 2ms/step - loss: 0.4758 - accuracy: 0.7980 - val_loss: 0.4893 - val_accuracy: 0.7662\n",
      "Epoch 43/100\n",
      "20/20 [==============================] - 0s 2ms/step - loss: 0.4745 - accuracy: 0.8111 - val_loss: 0.4733 - val_accuracy: 0.7857\n",
      "Epoch 44/100\n",
      "20/20 [==============================] - 0s 3ms/step - loss: 0.4714 - accuracy: 0.7948 - val_loss: 0.4742 - val_accuracy: 0.7792\n",
      "Epoch 45/100\n",
      "20/20 [==============================] - 0s 3ms/step - loss: 0.4753 - accuracy: 0.8029 - val_loss: 0.4826 - val_accuracy: 0.7792\n",
      "Epoch 46/100\n",
      "20/20 [==============================] - 0s 3ms/step - loss: 0.4709 - accuracy: 0.7948 - val_loss: 0.4828 - val_accuracy: 0.7662\n",
      "Epoch 47/100\n",
      "20/20 [==============================] - 0s 4ms/step - loss: 0.4663 - accuracy: 0.7964 - val_loss: 0.4756 - val_accuracy: 0.7987\n",
      "Epoch 48/100\n",
      "20/20 [==============================] - 0s 2ms/step - loss: 0.4720 - accuracy: 0.7980 - val_loss: 0.4809 - val_accuracy: 0.7727\n",
      "Epoch 49/100\n",
      "20/20 [==============================] - 0s 3ms/step - loss: 0.4699 - accuracy: 0.7964 - val_loss: 0.4744 - val_accuracy: 0.7662\n",
      "Epoch 50/100\n",
      "20/20 [==============================] - 0s 3ms/step - loss: 0.4663 - accuracy: 0.7915 - val_loss: 0.4838 - val_accuracy: 0.7597\n",
      "Epoch 51/100\n",
      "20/20 [==============================] - 0s 3ms/step - loss: 0.4610 - accuracy: 0.7964 - val_loss: 0.4759 - val_accuracy: 0.7792\n",
      "Epoch 52/100\n",
      "20/20 [==============================] - 0s 3ms/step - loss: 0.4595 - accuracy: 0.8111 - val_loss: 0.4725 - val_accuracy: 0.7727\n",
      "Epoch 53/100\n",
      "20/20 [==============================] - 0s 3ms/step - loss: 0.4624 - accuracy: 0.8062 - val_loss: 0.4897 - val_accuracy: 0.7597\n",
      "Epoch 54/100\n",
      "20/20 [==============================] - 0s 2ms/step - loss: 0.4586 - accuracy: 0.8062 - val_loss: 0.4710 - val_accuracy: 0.7662\n",
      "Epoch 55/100\n",
      "20/20 [==============================] - 0s 3ms/step - loss: 0.4623 - accuracy: 0.8029 - val_loss: 0.4727 - val_accuracy: 0.7662\n",
      "Epoch 56/100\n",
      "20/20 [==============================] - 0s 2ms/step - loss: 0.4611 - accuracy: 0.8127 - val_loss: 0.4817 - val_accuracy: 0.7662\n",
      "Epoch 57/100\n",
      "20/20 [==============================] - 0s 3ms/step - loss: 0.4522 - accuracy: 0.8127 - val_loss: 0.4779 - val_accuracy: 0.7727\n",
      "Epoch 58/100\n",
      "20/20 [==============================] - 0s 3ms/step - loss: 0.4516 - accuracy: 0.8062 - val_loss: 0.4771 - val_accuracy: 0.7857\n",
      "Epoch 59/100\n",
      "20/20 [==============================] - 0s 3ms/step - loss: 0.4518 - accuracy: 0.8094 - val_loss: 0.4828 - val_accuracy: 0.7662\n",
      "Epoch 60/100\n",
      "20/20 [==============================] - 0s 3ms/step - loss: 0.4571 - accuracy: 0.8111 - val_loss: 0.4816 - val_accuracy: 0.7792\n",
      "Epoch 61/100\n",
      "20/20 [==============================] - 0s 2ms/step - loss: 0.4601 - accuracy: 0.8013 - val_loss: 0.4964 - val_accuracy: 0.7532\n",
      "Epoch 62/100\n",
      "20/20 [==============================] - 0s 3ms/step - loss: 0.4499 - accuracy: 0.8094 - val_loss: 0.4802 - val_accuracy: 0.7857\n",
      "Epoch 63/100\n",
      "20/20 [==============================] - 0s 3ms/step - loss: 0.4500 - accuracy: 0.8062 - val_loss: 0.4795 - val_accuracy: 0.7792\n",
      "Epoch 64/100\n",
      "20/20 [==============================] - 0s 3ms/step - loss: 0.4480 - accuracy: 0.8143 - val_loss: 0.4809 - val_accuracy: 0.7662\n",
      "Epoch 65/100\n",
      "20/20 [==============================] - 0s 3ms/step - loss: 0.4531 - accuracy: 0.8094 - val_loss: 0.4797 - val_accuracy: 0.7792\n",
      "Epoch 66/100\n",
      "20/20 [==============================] - 0s 2ms/step - loss: 0.4427 - accuracy: 0.8176 - val_loss: 0.4873 - val_accuracy: 0.7662\n",
      "Epoch 67/100\n",
      "20/20 [==============================] - 0s 2ms/step - loss: 0.4482 - accuracy: 0.8094 - val_loss: 0.4874 - val_accuracy: 0.7792\n",
      "Epoch 68/100\n",
      "20/20 [==============================] - 0s 2ms/step - loss: 0.4471 - accuracy: 0.8111 - val_loss: 0.4878 - val_accuracy: 0.7597\n",
      "Epoch 69/100\n",
      "20/20 [==============================] - 0s 2ms/step - loss: 0.4489 - accuracy: 0.8078 - val_loss: 0.5021 - val_accuracy: 0.7662\n",
      "Epoch 70/100\n",
      "20/20 [==============================] - 0s 2ms/step - loss: 0.4506 - accuracy: 0.8111 - val_loss: 0.4884 - val_accuracy: 0.7662\n",
      "Epoch 71/100\n",
      "20/20 [==============================] - 0s 3ms/step - loss: 0.4377 - accuracy: 0.8143 - val_loss: 0.4853 - val_accuracy: 0.7597\n",
      "Epoch 72/100\n",
      "20/20 [==============================] - 0s 2ms/step - loss: 0.4493 - accuracy: 0.8192 - val_loss: 0.4844 - val_accuracy: 0.7792\n",
      "Epoch 73/100\n",
      "20/20 [==============================] - 0s 2ms/step - loss: 0.4341 - accuracy: 0.8143 - val_loss: 0.4895 - val_accuracy: 0.7727\n",
      "Epoch 74/100\n",
      "20/20 [==============================] - 0s 3ms/step - loss: 0.4360 - accuracy: 0.8306 - val_loss: 0.4809 - val_accuracy: 0.7792\n",
      "Epoch 75/100\n",
      "20/20 [==============================] - 0s 2ms/step - loss: 0.4343 - accuracy: 0.8160 - val_loss: 0.4858 - val_accuracy: 0.7792\n",
      "Epoch 76/100\n",
      "20/20 [==============================] - 0s 2ms/step - loss: 0.4293 - accuracy: 0.8339 - val_loss: 0.4935 - val_accuracy: 0.7727\n",
      "Epoch 77/100\n",
      "20/20 [==============================] - 0s 2ms/step - loss: 0.4277 - accuracy: 0.8322 - val_loss: 0.4851 - val_accuracy: 0.7792\n",
      "Epoch 78/100\n",
      "20/20 [==============================] - 0s 2ms/step - loss: 0.4356 - accuracy: 0.8208 - val_loss: 0.4943 - val_accuracy: 0.7468\n",
      "Epoch 79/100\n",
      "20/20 [==============================] - 0s 2ms/step - loss: 0.4414 - accuracy: 0.8078 - val_loss: 0.4896 - val_accuracy: 0.7662\n",
      "Epoch 80/100\n",
      "20/20 [==============================] - 0s 3ms/step - loss: 0.4399 - accuracy: 0.8192 - val_loss: 0.4780 - val_accuracy: 0.7922\n",
      "Epoch 81/100\n",
      "20/20 [==============================] - 0s 3ms/step - loss: 0.4342 - accuracy: 0.8208 - val_loss: 0.4957 - val_accuracy: 0.7727\n",
      "Epoch 82/100\n",
      "20/20 [==============================] - 0s 2ms/step - loss: 0.4295 - accuracy: 0.8274 - val_loss: 0.4900 - val_accuracy: 0.7792\n",
      "Epoch 83/100\n",
      "20/20 [==============================] - 0s 3ms/step - loss: 0.4277 - accuracy: 0.8225 - val_loss: 0.4938 - val_accuracy: 0.7532\n",
      "Epoch 84/100\n",
      "20/20 [==============================] - 0s 3ms/step - loss: 0.4253 - accuracy: 0.8192 - val_loss: 0.5018 - val_accuracy: 0.7468\n",
      "Epoch 85/100\n",
      "20/20 [==============================] - 0s 2ms/step - loss: 0.4233 - accuracy: 0.8241 - val_loss: 0.4830 - val_accuracy: 0.7792\n",
      "Epoch 86/100\n",
      "20/20 [==============================] - 0s 2ms/step - loss: 0.4289 - accuracy: 0.8290 - val_loss: 0.4949 - val_accuracy: 0.7597\n",
      "Epoch 87/100\n",
      "20/20 [==============================] - 0s 2ms/step - loss: 0.4229 - accuracy: 0.8388 - val_loss: 0.4992 - val_accuracy: 0.7662\n",
      "Epoch 88/100\n",
      "20/20 [==============================] - 0s 2ms/step - loss: 0.4233 - accuracy: 0.8355 - val_loss: 0.4887 - val_accuracy: 0.7727\n",
      "Epoch 89/100\n",
      "20/20 [==============================] - 0s 3ms/step - loss: 0.4209 - accuracy: 0.8257 - val_loss: 0.5040 - val_accuracy: 0.7597\n",
      "Epoch 90/100\n",
      "20/20 [==============================] - 0s 3ms/step - loss: 0.4264 - accuracy: 0.8322 - val_loss: 0.5078 - val_accuracy: 0.7662\n",
      "Epoch 91/100\n",
      "20/20 [==============================] - 0s 2ms/step - loss: 0.4299 - accuracy: 0.8322 - val_loss: 0.5191 - val_accuracy: 0.7532\n",
      "Epoch 92/100\n",
      "20/20 [==============================] - 0s 3ms/step - loss: 0.4227 - accuracy: 0.8290 - val_loss: 0.4875 - val_accuracy: 0.7792\n",
      "Epoch 93/100\n",
      "20/20 [==============================] - 0s 3ms/step - loss: 0.4198 - accuracy: 0.8388 - val_loss: 0.4904 - val_accuracy: 0.7727\n",
      "Epoch 94/100\n",
      "20/20 [==============================] - 0s 3ms/step - loss: 0.4130 - accuracy: 0.8453 - val_loss: 0.4906 - val_accuracy: 0.7792\n",
      "Epoch 95/100\n",
      "20/20 [==============================] - 0s 2ms/step - loss: 0.4176 - accuracy: 0.8290 - val_loss: 0.4904 - val_accuracy: 0.7662\n",
      "Epoch 96/100\n",
      "20/20 [==============================] - 0s 3ms/step - loss: 0.4186 - accuracy: 0.8355 - val_loss: 0.5006 - val_accuracy: 0.7597\n",
      "Epoch 97/100\n",
      "20/20 [==============================] - 0s 3ms/step - loss: 0.4118 - accuracy: 0.8355 - val_loss: 0.4954 - val_accuracy: 0.7727\n",
      "Epoch 98/100\n",
      "20/20 [==============================] - 0s 2ms/step - loss: 0.4135 - accuracy: 0.8371 - val_loss: 0.4899 - val_accuracy: 0.7597\n",
      "Epoch 99/100\n",
      "20/20 [==============================] - 0s 2ms/step - loss: 0.4113 - accuracy: 0.8355 - val_loss: 0.5016 - val_accuracy: 0.7727\n",
      "Epoch 100/100\n",
      "20/20 [==============================] - 0s 2ms/step - loss: 0.4162 - accuracy: 0.8274 - val_loss: 0.4966 - val_accuracy: 0.7532\n"
     ]
    }
   ],
   "source": [
    "result_reg = model_reg.fit(X_train_scaled, \n",
    "                           y_train,\n",
    "                           validation_data = (X_test_scaled, y_test),\n",
    "                           epochs=100)"
   ]
  },
  {
   "cell_type": "code",
   "execution_count": 56,
   "id": "3881632a-a405-42f0-bd8b-0d3b05a40ff3",
   "metadata": {},
   "outputs": [],
   "source": [
    "history_reg = pd.DataFrame(result_reg.history)"
   ]
  },
  {
   "cell_type": "code",
   "execution_count": 57,
   "id": "956ce9f9-301b-4ce8-94b9-275ad86a8379",
   "metadata": {},
   "outputs": [
    {
     "data": {
      "image/png": "[encoded data removed]",
      "text/plain": [
       "<Figure size 1800x432 with 1 Axes>"
      ]
     },
     "metadata": {
      "needs_background": "light"
     },
     "output_type": "display_data"
    }
   ],
   "source": [
    "plt.figure(figsize = (25,6))\n",
    "plt.plot(history_reg.val_loss, label='Test Set Loss')\n",
    "plt.plot(history_reg.loss, label='Training Set Loss')\n",
    "plt.title('Epochs vs Loss (L1 Regularization)')\n",
    "plt.xlabel('Epochs')\n",
    "plt.ylabel('Loss')\n",
    "plt.legend()\n",
    "plt.show()"
   ]
  },
  {
   "cell_type": "markdown",
   "id": "3240752f-6f70-4dbb-aa33-2f188993f339",
   "metadata": {},
   "source": [
    "# Implement Dropout Regularization"
   ]
  },
  {
   "cell_type": "code",
   "execution_count": 58,
   "id": "b900a12c-2b8b-4bf9-9a45-c0be330665e3",
   "metadata": {},
   "outputs": [],
   "source": [
    "from tensorflow.keras.layers import Dropout"
   ]
  },
  {
   "cell_type": "code",
   "execution_count": 59,
   "id": "a6834d2b-6dff-4784-b5cb-72c5e0c77332",
   "metadata": {},
   "outputs": [],
   "source": [
    "model_drp = Sequential()"
   ]
  },
  {
   "cell_type": "code",
   "execution_count": 60,
   "id": "a6777794-4b27-435a-b23c-691942a77d7e",
   "metadata": {},
   "outputs": [],
   "source": [
    "model_drp.add(Input(shape = (X_train_scaled.shape[1],)))"
   ]
  },
  {
   "cell_type": "code",
   "execution_count": 61,
   "id": "d3de3dc7-80dd-4d01-8fc0-8f9bff3bb2ab",
   "metadata": {},
   "outputs": [],
   "source": [
    "model_drp.add(Dense(units=128,\n",
    "                    activation='relu'\n",
    "                   )\n",
    "             )"
   ]
  },
  {
   "cell_type": "code",
   "execution_count": 62,
   "id": "5bbb2f0d-739a-4667-ae96-33124cb99a13",
   "metadata": {},
   "outputs": [],
   "source": [
    "model_drp.add(Dropout(0.4))"
   ]
  },
  {
   "cell_type": "code",
   "execution_count": 63,
   "id": "b3ed52b5-2036-479f-b10a-749341930614",
   "metadata": {},
   "outputs": [],
   "source": [
    "model_drp.add(Dense(units=64, activation='relu'))"
   ]
  },
  {
   "cell_type": "code",
   "execution_count": 64,
   "id": "e133f542-ee38-4b0f-b664-baccf33b5d7e",
   "metadata": {},
   "outputs": [],
   "source": [
    "model_drp.add(Dropout(0.3))"
   ]
  },
  {
   "cell_type": "code",
   "execution_count": 65,
   "id": "0faea478-1ab0-4d61-ba12-7940fb5188fe",
   "metadata": {},
   "outputs": [],
   "source": [
    "model_drp.add(Dense(units=32, activation='relu'))"
   ]
  },
  {
   "cell_type": "code",
   "execution_count": 66,
   "id": "54d9649b-111f-43ef-9b5e-0b063726c64c",
   "metadata": {},
   "outputs": [],
   "source": [
    "model_drp.add(Dropout(0.25))"
   ]
  },
  {
   "cell_type": "code",
   "execution_count": 67,
   "id": "f73495d7-5246-46ea-ba56-8b9a7e96c51f",
   "metadata": {},
   "outputs": [],
   "source": [
    "model_drp.add(Dense(units=1, activation='sigmoid'))"
   ]
  },
  {
   "cell_type": "code",
   "execution_count": 68,
   "id": "ccac8b47-641f-451b-bbb0-b9580740cbdf",
   "metadata": {},
   "outputs": [
    {
     "name": "stdout",
     "output_type": "stream",
     "text": [
      "Model: \"sequential_2\"\n",
      "_________________________________________________________________\n",
      " Layer (type)                Output Shape              Param #   \n",
      "=================================================================\n",
      " dense_8 (Dense)             (None, 128)               1152      \n",
      "                                                                 \n",
      " dropout (Dropout)           (None, 128)               0         \n",
      "                                                                 \n",
      " dense_9 (Dense)             (None, 64)                8256      \n",
      "                                                                 \n",
      " dropout_1 (Dropout)         (None, 64)                0         \n",
      "                                                                 \n",
      " dense_10 (Dense)            (None, 32)                2080      \n",
      "                                                                 \n",
      " dropout_2 (Dropout)         (None, 32)                0         \n",
      "                                                                 \n",
      " dense_11 (Dense)            (None, 1)                 33        \n",
      "                                                                 \n",
      "=================================================================\n",
      "Total params: 11,521\n",
      "Trainable params: 11,521\n",
      "Non-trainable params: 0\n",
      "_________________________________________________________________\n"
     ]
    }
   ],
   "source": [
    "model_drp.summary()"
   ]
  },
  {
   "cell_type": "code",
   "execution_count": 69,
   "id": "0322ee8f-43ff-4a56-9be6-1f36d407b32d",
   "metadata": {},
   "outputs": [],
   "source": [
    "model_drp.compile(optimizer = 'adam',\n",
    "                  loss = 'binary_crossentropy',\n",
    "                  metrics = 'accuracy')"
   ]
  },
  {
   "cell_type": "code",
   "execution_count": 70,
   "id": "bde26def-e862-419e-b498-1cd9f1273d9c",
   "metadata": {},
   "outputs": [
    {
     "name": "stdout",
     "output_type": "stream",
     "text": [
      "Epoch 1/100\n",
      "20/20 [==============================] - 1s 8ms/step - loss: 0.6921 - accuracy: 0.5375 - val_loss: 0.6261 - val_accuracy: 0.7597\n",
      "Epoch 2/100\n",
      "20/20 [==============================] - 0s 2ms/step - loss: 0.6258 - accuracy: 0.6971 - val_loss: 0.5716 - val_accuracy: 0.7662\n",
      "Epoch 3/100\n",
      "20/20 [==============================] - 0s 2ms/step - loss: 0.5730 - accuracy: 0.7313 - val_loss: 0.5073 - val_accuracy: 0.7662\n",
      "Epoch 4/100\n",
      "20/20 [==============================] - 0s 3ms/step - loss: 0.5354 - accuracy: 0.7492 - val_loss: 0.4747 - val_accuracy: 0.7727\n",
      "Epoch 5/100\n",
      "20/20 [==============================] - 0s 3ms/step - loss: 0.5184 - accuracy: 0.7671 - val_loss: 0.4577 - val_accuracy: 0.7727\n",
      "Epoch 6/100\n",
      "20/20 [==============================] - 0s 2ms/step - loss: 0.5006 - accuracy: 0.7720 - val_loss: 0.4509 - val_accuracy: 0.7792\n",
      "Epoch 7/100\n",
      "20/20 [==============================] - 0s 2ms/step - loss: 0.4962 - accuracy: 0.7492 - val_loss: 0.4456 - val_accuracy: 0.7727\n",
      "Epoch 8/100\n",
      "20/20 [==============================] - 0s 2ms/step - loss: 0.5096 - accuracy: 0.7606 - val_loss: 0.4421 - val_accuracy: 0.7727\n",
      "Epoch 9/100\n",
      "20/20 [==============================] - 0s 2ms/step - loss: 0.4898 - accuracy: 0.7508 - val_loss: 0.4383 - val_accuracy: 0.7792\n",
      "Epoch 10/100\n",
      "20/20 [==============================] - 0s 2ms/step - loss: 0.4919 - accuracy: 0.7476 - val_loss: 0.4355 - val_accuracy: 0.7857\n",
      "Epoch 11/100\n",
      "20/20 [==============================] - 0s 2ms/step - loss: 0.4710 - accuracy: 0.7720 - val_loss: 0.4298 - val_accuracy: 0.7792\n",
      "Epoch 12/100\n",
      "20/20 [==============================] - 0s 2ms/step - loss: 0.4988 - accuracy: 0.7769 - val_loss: 0.4328 - val_accuracy: 0.7792\n",
      "Epoch 13/100\n",
      "20/20 [==============================] - 0s 2ms/step - loss: 0.4725 - accuracy: 0.7818 - val_loss: 0.4317 - val_accuracy: 0.7857\n",
      "Epoch 14/100\n",
      "20/20 [==============================] - 0s 2ms/step - loss: 0.4671 - accuracy: 0.7980 - val_loss: 0.4304 - val_accuracy: 0.7857\n",
      "Epoch 15/100\n",
      "20/20 [==============================] - 0s 2ms/step - loss: 0.4718 - accuracy: 0.7655 - val_loss: 0.4277 - val_accuracy: 0.7857\n",
      "Epoch 16/100\n",
      "20/20 [==============================] - 0s 2ms/step - loss: 0.4570 - accuracy: 0.7785 - val_loss: 0.4257 - val_accuracy: 0.7792\n",
      "Epoch 17/100\n",
      "20/20 [==============================] - 0s 2ms/step - loss: 0.4642 - accuracy: 0.7801 - val_loss: 0.4281 - val_accuracy: 0.7857\n",
      "Epoch 18/100\n",
      "20/20 [==============================] - 0s 2ms/step - loss: 0.4601 - accuracy: 0.7850 - val_loss: 0.4283 - val_accuracy: 0.7857\n",
      "Epoch 19/100\n",
      "20/20 [==============================] - 0s 2ms/step - loss: 0.4595 - accuracy: 0.7915 - val_loss: 0.4246 - val_accuracy: 0.7857\n",
      "Epoch 20/100\n",
      "20/20 [==============================] - 0s 3ms/step - loss: 0.4500 - accuracy: 0.7948 - val_loss: 0.4268 - val_accuracy: 0.7857\n",
      "Epoch 21/100\n",
      "20/20 [==============================] - 0s 2ms/step - loss: 0.4574 - accuracy: 0.7899 - val_loss: 0.4266 - val_accuracy: 0.7922\n",
      "Epoch 22/100\n",
      "20/20 [==============================] - 0s 2ms/step - loss: 0.4496 - accuracy: 0.7850 - val_loss: 0.4251 - val_accuracy: 0.7792\n",
      "Epoch 23/100\n",
      "20/20 [==============================] - 0s 2ms/step - loss: 0.4446 - accuracy: 0.7883 - val_loss: 0.4254 - val_accuracy: 0.7987\n",
      "Epoch 24/100\n",
      "20/20 [==============================] - 0s 2ms/step - loss: 0.4533 - accuracy: 0.7932 - val_loss: 0.4307 - val_accuracy: 0.7857\n",
      "Epoch 25/100\n",
      "20/20 [==============================] - 0s 2ms/step - loss: 0.4669 - accuracy: 0.7866 - val_loss: 0.4349 - val_accuracy: 0.7792\n",
      "Epoch 26/100\n",
      "20/20 [==============================] - 0s 2ms/step - loss: 0.4504 - accuracy: 0.7997 - val_loss: 0.4369 - val_accuracy: 0.7792\n",
      "Epoch 27/100\n",
      "20/20 [==============================] - 0s 2ms/step - loss: 0.4556 - accuracy: 0.7899 - val_loss: 0.4354 - val_accuracy: 0.7792\n",
      "Epoch 28/100\n",
      "20/20 [==============================] - 0s 2ms/step - loss: 0.4489 - accuracy: 0.7866 - val_loss: 0.4352 - val_accuracy: 0.7792\n",
      "Epoch 29/100\n",
      "20/20 [==============================] - 0s 2ms/step - loss: 0.4460 - accuracy: 0.8013 - val_loss: 0.4375 - val_accuracy: 0.7727\n",
      "Epoch 30/100\n",
      "20/20 [==============================] - 0s 3ms/step - loss: 0.4563 - accuracy: 0.7866 - val_loss: 0.4344 - val_accuracy: 0.7792\n",
      "Epoch 31/100\n",
      "20/20 [==============================] - 0s 2ms/step - loss: 0.4642 - accuracy: 0.7948 - val_loss: 0.4315 - val_accuracy: 0.7792\n",
      "Epoch 32/100\n",
      "20/20 [==============================] - 0s 2ms/step - loss: 0.4463 - accuracy: 0.7801 - val_loss: 0.4295 - val_accuracy: 0.7792\n",
      "Epoch 33/100\n",
      "20/20 [==============================] - 0s 2ms/step - loss: 0.4440 - accuracy: 0.7883 - val_loss: 0.4296 - val_accuracy: 0.7857\n",
      "Epoch 34/100\n",
      "20/20 [==============================] - 0s 2ms/step - loss: 0.4580 - accuracy: 0.7850 - val_loss: 0.4324 - val_accuracy: 0.7792\n",
      "Epoch 35/100\n",
      "20/20 [==============================] - 0s 2ms/step - loss: 0.4362 - accuracy: 0.8029 - val_loss: 0.4399 - val_accuracy: 0.7727\n",
      "Epoch 36/100\n",
      "20/20 [==============================] - 0s 2ms/step - loss: 0.4362 - accuracy: 0.7883 - val_loss: 0.4415 - val_accuracy: 0.7662\n",
      "Epoch 37/100\n",
      "20/20 [==============================] - 0s 2ms/step - loss: 0.4448 - accuracy: 0.7980 - val_loss: 0.4363 - val_accuracy: 0.7597\n",
      "Epoch 38/100\n",
      "20/20 [==============================] - 0s 2ms/step - loss: 0.4237 - accuracy: 0.8046 - val_loss: 0.4319 - val_accuracy: 0.7727\n",
      "Epoch 39/100\n",
      "20/20 [==============================] - 0s 2ms/step - loss: 0.4387 - accuracy: 0.7948 - val_loss: 0.4353 - val_accuracy: 0.7792\n",
      "Epoch 40/100\n",
      "20/20 [==============================] - 0s 3ms/step - loss: 0.4297 - accuracy: 0.8013 - val_loss: 0.4361 - val_accuracy: 0.7597\n",
      "Epoch 41/100\n",
      "20/20 [==============================] - 0s 3ms/step - loss: 0.4348 - accuracy: 0.8062 - val_loss: 0.4335 - val_accuracy: 0.7727\n",
      "Epoch 42/100\n",
      "20/20 [==============================] - 0s 2ms/step - loss: 0.4491 - accuracy: 0.7915 - val_loss: 0.4356 - val_accuracy: 0.7727\n",
      "Epoch 43/100\n",
      "20/20 [==============================] - 0s 3ms/step - loss: 0.4467 - accuracy: 0.7866 - val_loss: 0.4381 - val_accuracy: 0.7792\n",
      "Epoch 44/100\n",
      "20/20 [==============================] - 0s 2ms/step - loss: 0.4348 - accuracy: 0.7899 - val_loss: 0.4371 - val_accuracy: 0.7792\n",
      "Epoch 45/100\n",
      "20/20 [==============================] - 0s 3ms/step - loss: 0.4309 - accuracy: 0.8062 - val_loss: 0.4342 - val_accuracy: 0.7727\n",
      "Epoch 46/100\n",
      "20/20 [==============================] - 0s 2ms/step - loss: 0.4243 - accuracy: 0.8046 - val_loss: 0.4375 - val_accuracy: 0.7727\n",
      "Epoch 47/100\n",
      "20/20 [==============================] - 0s 2ms/step - loss: 0.4287 - accuracy: 0.7964 - val_loss: 0.4407 - val_accuracy: 0.7792\n",
      "Epoch 48/100\n",
      "20/20 [==============================] - 0s 2ms/step - loss: 0.4227 - accuracy: 0.8029 - val_loss: 0.4330 - val_accuracy: 0.7727\n",
      "Epoch 49/100\n",
      "20/20 [==============================] - 0s 2ms/step - loss: 0.4259 - accuracy: 0.7997 - val_loss: 0.4397 - val_accuracy: 0.7792\n",
      "Epoch 50/100\n",
      "20/20 [==============================] - 0s 2ms/step - loss: 0.4269 - accuracy: 0.7980 - val_loss: 0.4352 - val_accuracy: 0.7662\n",
      "Epoch 51/100\n",
      "20/20 [==============================] - 0s 2ms/step - loss: 0.4209 - accuracy: 0.7980 - val_loss: 0.4359 - val_accuracy: 0.7727\n",
      "Epoch 52/100\n",
      "20/20 [==============================] - 0s 2ms/step - loss: 0.4441 - accuracy: 0.8046 - val_loss: 0.4356 - val_accuracy: 0.7727\n",
      "Epoch 53/100\n",
      "20/20 [==============================] - 0s 3ms/step - loss: 0.4308 - accuracy: 0.8078 - val_loss: 0.4346 - val_accuracy: 0.7792\n",
      "Epoch 54/100\n",
      "20/20 [==============================] - 0s 2ms/step - loss: 0.4287 - accuracy: 0.8029 - val_loss: 0.4352 - val_accuracy: 0.7857\n",
      "Epoch 55/100\n",
      "20/20 [==============================] - 0s 2ms/step - loss: 0.4486 - accuracy: 0.8094 - val_loss: 0.4382 - val_accuracy: 0.7662\n",
      "Epoch 56/100\n",
      "20/20 [==============================] - 0s 2ms/step - loss: 0.4290 - accuracy: 0.8013 - val_loss: 0.4437 - val_accuracy: 0.7597\n",
      "Epoch 57/100\n",
      "20/20 [==============================] - 0s 2ms/step - loss: 0.4262 - accuracy: 0.7948 - val_loss: 0.4452 - val_accuracy: 0.7662\n",
      "Epoch 58/100\n",
      "20/20 [==============================] - 0s 2ms/step - loss: 0.4169 - accuracy: 0.8127 - val_loss: 0.4439 - val_accuracy: 0.7727\n",
      "Epoch 59/100\n",
      "20/20 [==============================] - 0s 2ms/step - loss: 0.4179 - accuracy: 0.8143 - val_loss: 0.4402 - val_accuracy: 0.7792\n",
      "Epoch 60/100\n",
      "20/20 [==============================] - 0s 3ms/step - loss: 0.4387 - accuracy: 0.8111 - val_loss: 0.4443 - val_accuracy: 0.7857\n",
      "Epoch 61/100\n",
      "20/20 [==============================] - 0s 3ms/step - loss: 0.4201 - accuracy: 0.7932 - val_loss: 0.4448 - val_accuracy: 0.7727\n",
      "Epoch 62/100\n",
      "20/20 [==============================] - 0s 3ms/step - loss: 0.4296 - accuracy: 0.7948 - val_loss: 0.4411 - val_accuracy: 0.7792\n",
      "Epoch 63/100\n",
      "20/20 [==============================] - 0s 2ms/step - loss: 0.4185 - accuracy: 0.8078 - val_loss: 0.4377 - val_accuracy: 0.7792\n",
      "Epoch 64/100\n",
      "20/20 [==============================] - 0s 2ms/step - loss: 0.4185 - accuracy: 0.7980 - val_loss: 0.4441 - val_accuracy: 0.7727\n",
      "Epoch 65/100\n",
      "20/20 [==============================] - 0s 2ms/step - loss: 0.4279 - accuracy: 0.8078 - val_loss: 0.4501 - val_accuracy: 0.7727\n",
      "Epoch 66/100\n",
      "20/20 [==============================] - 0s 2ms/step - loss: 0.4150 - accuracy: 0.8176 - val_loss: 0.4482 - val_accuracy: 0.7662\n",
      "Epoch 67/100\n",
      "20/20 [==============================] - 0s 2ms/step - loss: 0.4037 - accuracy: 0.8143 - val_loss: 0.4490 - val_accuracy: 0.7727\n",
      "Epoch 68/100\n",
      "20/20 [==============================] - 0s 2ms/step - loss: 0.4295 - accuracy: 0.8029 - val_loss: 0.4511 - val_accuracy: 0.7727\n",
      "Epoch 69/100\n",
      "20/20 [==============================] - 0s 2ms/step - loss: 0.4055 - accuracy: 0.8241 - val_loss: 0.4529 - val_accuracy: 0.7727\n",
      "Epoch 70/100\n",
      "20/20 [==============================] - 0s 3ms/step - loss: 0.4118 - accuracy: 0.8078 - val_loss: 0.4531 - val_accuracy: 0.7662\n",
      "Epoch 71/100\n",
      "20/20 [==============================] - 0s 2ms/step - loss: 0.4229 - accuracy: 0.8062 - val_loss: 0.4485 - val_accuracy: 0.7792\n",
      "Epoch 72/100\n",
      "20/20 [==============================] - 0s 3ms/step - loss: 0.4197 - accuracy: 0.8208 - val_loss: 0.4483 - val_accuracy: 0.7792\n",
      "Epoch 73/100\n",
      "20/20 [==============================] - 0s 3ms/step - loss: 0.4199 - accuracy: 0.8208 - val_loss: 0.4491 - val_accuracy: 0.7792\n",
      "Epoch 74/100\n",
      "20/20 [==============================] - 0s 2ms/step - loss: 0.4065 - accuracy: 0.8111 - val_loss: 0.4431 - val_accuracy: 0.7662\n",
      "Epoch 75/100\n",
      "20/20 [==============================] - 0s 2ms/step - loss: 0.4128 - accuracy: 0.8111 - val_loss: 0.4485 - val_accuracy: 0.7662\n",
      "Epoch 76/100\n",
      "20/20 [==============================] - 0s 3ms/step - loss: 0.4199 - accuracy: 0.8029 - val_loss: 0.4540 - val_accuracy: 0.7727\n",
      "Epoch 77/100\n",
      "20/20 [==============================] - 0s 2ms/step - loss: 0.3979 - accuracy: 0.8143 - val_loss: 0.4542 - val_accuracy: 0.7532\n",
      "Epoch 78/100\n",
      "20/20 [==============================] - 0s 2ms/step - loss: 0.4105 - accuracy: 0.8062 - val_loss: 0.4507 - val_accuracy: 0.7792\n",
      "Epoch 79/100\n",
      "20/20 [==============================] - 0s 2ms/step - loss: 0.4229 - accuracy: 0.8013 - val_loss: 0.4584 - val_accuracy: 0.7597\n",
      "Epoch 80/100\n",
      "20/20 [==============================] - 0s 3ms/step - loss: 0.4188 - accuracy: 0.7980 - val_loss: 0.4511 - val_accuracy: 0.7532\n",
      "Epoch 81/100\n",
      "20/20 [==============================] - 0s 2ms/step - loss: 0.4184 - accuracy: 0.8127 - val_loss: 0.4490 - val_accuracy: 0.7597\n",
      "Epoch 82/100\n",
      "20/20 [==============================] - 0s 2ms/step - loss: 0.3896 - accuracy: 0.8192 - val_loss: 0.4551 - val_accuracy: 0.7532\n",
      "Epoch 83/100\n",
      "20/20 [==============================] - 0s 2ms/step - loss: 0.4198 - accuracy: 0.8176 - val_loss: 0.4591 - val_accuracy: 0.7532\n",
      "Epoch 84/100\n",
      "20/20 [==============================] - 0s 2ms/step - loss: 0.4070 - accuracy: 0.8208 - val_loss: 0.4577 - val_accuracy: 0.7727\n",
      "Epoch 85/100\n",
      "20/20 [==============================] - 0s 2ms/step - loss: 0.4019 - accuracy: 0.8176 - val_loss: 0.4591 - val_accuracy: 0.7662\n",
      "Epoch 86/100\n",
      "20/20 [==============================] - 0s 2ms/step - loss: 0.4082 - accuracy: 0.8143 - val_loss: 0.4477 - val_accuracy: 0.7662\n",
      "Epoch 87/100\n",
      "20/20 [==============================] - 0s 3ms/step - loss: 0.4077 - accuracy: 0.8192 - val_loss: 0.4461 - val_accuracy: 0.7597\n",
      "Epoch 88/100\n",
      "20/20 [==============================] - 0s 2ms/step - loss: 0.4038 - accuracy: 0.8111 - val_loss: 0.4418 - val_accuracy: 0.7727\n",
      "Epoch 89/100\n",
      "20/20 [==============================] - 0s 2ms/step - loss: 0.3946 - accuracy: 0.8241 - val_loss: 0.4571 - val_accuracy: 0.7532\n",
      "Epoch 90/100\n",
      "20/20 [==============================] - 0s 2ms/step - loss: 0.4003 - accuracy: 0.8176 - val_loss: 0.4550 - val_accuracy: 0.7532\n",
      "Epoch 91/100\n",
      "20/20 [==============================] - 0s 2ms/step - loss: 0.4105 - accuracy: 0.8241 - val_loss: 0.4613 - val_accuracy: 0.7273\n",
      "Epoch 92/100\n",
      "20/20 [==============================] - 0s 2ms/step - loss: 0.3802 - accuracy: 0.8241 - val_loss: 0.4586 - val_accuracy: 0.7468\n",
      "Epoch 93/100\n",
      "20/20 [==============================] - 0s 2ms/step - loss: 0.3874 - accuracy: 0.8160 - val_loss: 0.4509 - val_accuracy: 0.7662\n",
      "Epoch 94/100\n",
      "20/20 [==============================] - 0s 2ms/step - loss: 0.3858 - accuracy: 0.8225 - val_loss: 0.4545 - val_accuracy: 0.7662\n",
      "Epoch 95/100\n",
      "20/20 [==============================] - 0s 3ms/step - loss: 0.4048 - accuracy: 0.8257 - val_loss: 0.4530 - val_accuracy: 0.7597\n",
      "Epoch 96/100\n",
      "20/20 [==============================] - 0s 2ms/step - loss: 0.4000 - accuracy: 0.8241 - val_loss: 0.4531 - val_accuracy: 0.7597\n",
      "Epoch 97/100\n",
      "20/20 [==============================] - 0s 3ms/step - loss: 0.3996 - accuracy: 0.8306 - val_loss: 0.4595 - val_accuracy: 0.7597\n",
      "Epoch 98/100\n",
      "20/20 [==============================] - 0s 2ms/step - loss: 0.3766 - accuracy: 0.8257 - val_loss: 0.4636 - val_accuracy: 0.7597\n",
      "Epoch 99/100\n",
      "20/20 [==============================] - 0s 3ms/step - loss: 0.3829 - accuracy: 0.8436 - val_loss: 0.4621 - val_accuracy: 0.7532\n",
      "Epoch 100/100\n",
      "20/20 [==============================] - 0s 3ms/step - loss: 0.3891 - accuracy: 0.8192 - val_loss: 0.4733 - val_accuracy: 0.7468\n"
     ]
    }
   ],
   "source": [
    "result_drp = model_drp.fit(X_train_scaled, \n",
    "                           y_train,\n",
    "                           validation_data = (X_test_scaled, y_test),\n",
    "                           epochs=100)"
   ]
  },
  {
   "cell_type": "code",
   "execution_count": 71,
   "id": "1f240760-dcd5-427e-9d0b-6bed896f0b4b",
   "metadata": {},
   "outputs": [],
   "source": [
    "history_drp = pd.DataFrame(result_drp.history)"
   ]
  },
  {
   "cell_type": "code",
   "execution_count": 72,
   "id": "4cbb1d21-a764-4bd2-a7fe-14d3ea650434",
   "metadata": {},
   "outputs": [
    {
     "data": {
      "image/png": "[encoded data removed]",
      "text/plain": [
       "<Figure size 1080x432 with 1 Axes>"
      ]
     },
     "metadata": {
      "needs_background": "light"
     },
     "output_type": "display_data"
    }
   ],
   "source": [
    "plt.figure(figsize = (15,6))\n",
    "plt.plot(history_drp.val_loss, label='Test Set Loss')\n",
    "plt.plot(history_drp.loss, label='Training Set Loss')\n",
    "plt.title('Epochs vs Loss (Dropout Regularization)')\n",
    "plt.xlabel('Epochs')\n",
    "plt.ylabel('Loss')\n",
    "plt.legend()\n",
    "plt.show()"
   ]
  },
  {
   "cell_type": "code",
   "execution_count": 73,
   "id": "dcf74587-c7ed-4678-b6ff-2aa3825c4bb3",
   "metadata": {},
   "outputs": [
    {
     "data": {
      "image/png": "[encoded data removed]",
      "text/plain": [
       "<Figure size 1080x432 with 1 Axes>"
      ]
     },
     "metadata": {
      "needs_background": "light"
     },
     "output_type": "display_data"
    }
   ],
   "source": [
    "plt.figure(figsize = (15,6))\n",
    "plt.plot(history_drp.val_accuracy, label='Test Set Accuracy')\n",
    "plt.plot(history_drp.accuracy, label='Training Set Accuracy')\n",
    "plt.title('Epochs vs Accuracy (Dropout Regularization)')\n",
    "plt.xlabel('Epochs')\n",
    "plt.ylabel('Accuracy')\n",
    "plt.legend()\n",
    "plt.show()"
   ]
  },
  {
   "cell_type": "code",
   "execution_count": null,
   "id": "30247547-1541-4c7d-aea1-2925ef5c1ac1",
   "metadata": {},
   "outputs": [],
   "source": []
  }
 ],
 "metadata": {
  "kernelspec": {
   "display_name": "Python 3",
   "language": "python",
   "name": "python3"
  },
  "language_info": {
   "codemirror_mode": {
    "name": "ipython",
    "version": 3
   },
   "file_extension": ".py",
   "mimetype": "text/x-python",
   "name": "python",
   "nbconvert_exporter": "python",
   "pygments_lexer": "ipython3",
   "version": "3.7.6"
  }
 },
 "nbformat": 4,
 "nbformat_minor": 5
}
