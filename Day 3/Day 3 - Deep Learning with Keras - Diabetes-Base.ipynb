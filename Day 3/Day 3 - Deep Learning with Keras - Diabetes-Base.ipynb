{
 "cells": [
  {
   "cell_type": "code",
   "execution_count": null,
   "id": "d31b9fe1-36f9-427c-94a2-3fbde5109df0",
   "metadata": {},
   "outputs": [],
   "source": [
    "import pandas as pd\n",
    "import numpy as np"
   ]
  },
  {
   "cell_type": "code",
   "execution_count": null,
   "id": "11fbce75-7a1f-4fba-aa86-104a3eefc3fa",
   "metadata": {},
   "outputs": [],
   "source": [
    "df_diab = pd.read_csv('diabetes.csv')"
   ]
  },
  {
   "cell_type": "code",
   "execution_count": null,
   "id": "91639249-a006-4260-8e75-03cfd2aa55b8",
   "metadata": {},
   "outputs": [],
   "source": [
    "df_diab.head()"
   ]
  },
  {
   "cell_type": "code",
   "execution_count": null,
   "id": "6f76f400-184d-4d40-ad6b-60f8cfd46de9",
   "metadata": {},
   "outputs": [],
   "source": [
    "df_diab.shape"
   ]
  },
  {
   "cell_type": "code",
   "execution_count": null,
   "id": "1a6c4030-1aee-47f1-bfcb-5d30213fdb0a",
   "metadata": {},
   "outputs": [],
   "source": [
    "df_diab.Outcome.unique()"
   ]
  },
  {
   "cell_type": "code",
   "execution_count": null,
   "id": "3c0c67d7-fec6-44c5-94c1-9a3f6660d87f",
   "metadata": {},
   "outputs": [],
   "source": [
    "df_diab.isna().sum()"
   ]
  },
  {
   "cell_type": "code",
   "execution_count": null,
   "id": "9bb6fc82-c903-4440-bbfc-9d7ca87465ca",
   "metadata": {},
   "outputs": [],
   "source": [
    "X = df_diab.drop(['Outcome'],axis=1)\n",
    "y = df_diab['Outcome']"
   ]
  },
  {
   "cell_type": "code",
   "execution_count": null,
   "id": "b390e395-80e8-4903-91e1-c9a1b9946432",
   "metadata": {},
   "outputs": [],
   "source": [
    "np.random.seed(12345)"
   ]
  },
  {
   "cell_type": "code",
   "execution_count": null,
   "id": "17b06800-3437-4f35-96f8-13fbcc67628f",
   "metadata": {},
   "outputs": [],
   "source": [
    "from sklearn.model_selection import train_test_split"
   ]
  },
  {
   "cell_type": "code",
   "execution_count": null,
   "id": "4750bdbe-c8c4-4ec2-9424-377492df3e93",
   "metadata": {},
   "outputs": [],
   "source": [
    "X_train, X_test, y_train,y_test = train_test_split(X,\n",
    "                                                   y,\n",
    "                                                   stratify = y,\n",
    "                                                   test_size=0.2,\n",
    "                                                   random_state=12345)"
   ]
  },
  {
   "cell_type": "code",
   "execution_count": null,
   "id": "06496bb0-5fda-466c-b58f-ad2f1b88785a",
   "metadata": {},
   "outputs": [],
   "source": [
    "X_train.shape"
   ]
  },
  {
   "cell_type": "code",
   "execution_count": null,
   "id": "5ca2c389-5256-4455-9b4d-c0fd3fc9d166",
   "metadata": {},
   "outputs": [],
   "source": [
    "X_test.shape"
   ]
  },
  {
   "cell_type": "code",
   "execution_count": null,
   "id": "c49ec3ef-1f00-475d-ac24-43cffb4974b2",
   "metadata": {},
   "outputs": [],
   "source": [
    "from sklearn.preprocessing import StandardScaler"
   ]
  },
  {
   "cell_type": "code",
   "execution_count": null,
   "id": "b2619fcb-0182-4fbe-bc3f-eea81a9d9e1a",
   "metadata": {},
   "outputs": [],
   "source": [
    "# X-scaled = (X - mean)/sd -> z value\n",
    "\n",
    "scaler = StandardScaler()\n",
    "X_train_scaled = scaler.fit_transform(X_train)\n",
    "X_test_scaled = scaler.transform(X_test)"
   ]
  },
  {
   "cell_type": "markdown",
   "id": "db14930a-09e9-4efe-9552-510fa1375be2",
   "metadata": {},
   "source": [
    "## Implement your model after this point"
   ]
  },
  {
   "cell_type": "code",
   "execution_count": null,
   "id": "69b751e3-3d43-4c0d-8a78-05ea76683135",
   "metadata": {},
   "outputs": [],
   "source": []
  },
  {
   "cell_type": "code",
   "execution_count": null,
   "id": "87b83d78-373e-452a-8f6b-8b88009c08f1",
   "metadata": {},
   "outputs": [],
   "source": []
  },
  {
   "cell_type": "code",
   "execution_count": null,
   "id": "89689590-784b-4fad-a572-f30e7f4ba97d",
   "metadata": {},
   "outputs": [],
   "source": []
  },
  {
   "cell_type": "code",
   "execution_count": null,
   "id": "4c6ba526-7279-40f4-8474-b0d2f31981e3",
   "metadata": {},
   "outputs": [],
   "source": []
  },
  {
   "cell_type": "code",
   "execution_count": null,
   "id": "e1f74d2e-3ec4-4b86-8975-bacdaf8cc79b",
   "metadata": {},
   "outputs": [],
   "source": [
    "from sklearn.metrics import confusion_matrix, accuracy_score"
   ]
  },
  {
   "cell_type": "code",
   "execution_count": null,
   "id": "c4edecff-1137-418f-8d39-21374a68f2cb",
   "metadata": {},
   "outputs": [],
   "source": [
    "confusion_matrix(y_pred=y_train_pred >= 0.5, \n",
    "                 y_true = y_train)"
   ]
  },
  {
   "cell_type": "code",
   "execution_count": null,
   "id": "ee5a513d-8de5-4b3a-9bb5-2f16a1641c50",
   "metadata": {},
   "outputs": [],
   "source": [
    "accuracy_score(y_pred=y_train_pred >= 0.5, \n",
    "               y_true = y_train)"
   ]
  },
  {
   "cell_type": "code",
   "execution_count": null,
   "id": "83c9c1c1-4b5f-4d17-9a1f-05d920609e65",
   "metadata": {},
   "outputs": [],
   "source": [
    "confusion_matrix(y_pred=y_test_pred >= 0.5, \n",
    "                 y_true = y_test)"
   ]
  },
  {
   "cell_type": "code",
   "execution_count": null,
   "id": "e5c155ae-c1ab-4afb-bd8b-edc619be4cdf",
   "metadata": {},
   "outputs": [],
   "source": [
    "accuracy_score(y_pred=y_test_pred >= 0.5, \n",
    "               y_true = y_test)"
   ]
  },
  {
   "cell_type": "code",
   "execution_count": null,
   "id": "88a8ed66-80cd-4545-812f-66e5dcd72333",
   "metadata": {},
   "outputs": [],
   "source": [
    "history = pd.DataFrame(result.history)"
   ]
  },
  {
   "cell_type": "code",
   "execution_count": null,
   "id": "7591d6f3-113e-4751-bc90-d815427fd3d1",
   "metadata": {},
   "outputs": [],
   "source": [
    "history.head()"
   ]
  },
  {
   "cell_type": "code",
   "execution_count": null,
   "id": "5bc6b994-3a44-49b0-b05f-1bff291eb317",
   "metadata": {},
   "outputs": [],
   "source": [
    "import matplotlib.pyplot as plt"
   ]
  },
  {
   "cell_type": "code",
   "execution_count": null,
   "id": "ad6b437b-a492-4ae2-b2d3-c463bbfc53e6",
   "metadata": {},
   "outputs": [],
   "source": [
    "plt.figure(figsize = (25,6))\n",
    "plt.plot(history.val_loss, label='Test Set Loss')\n",
    "plt.plot(history.loss, label='Training Set Loss')\n",
    "plt.title('Epochs vs Loss')\n",
    "plt.xlabel('Epochs')\n",
    "plt.ylabel('Loss')\n",
    "plt.legend()\n",
    "plt.show()"
   ]
  },
  {
   "cell_type": "code",
   "execution_count": null,
   "id": "88b30dc0-5cc8-4423-b100-46bb7b8f8497",
   "metadata": {},
   "outputs": [],
   "source": [
    "plt.figure(figsize = (15,6))\n",
    "plt.plot(history.val_accuracy, label='Test Set Accuracy')\n",
    "plt.plot(history.accuracy, label='Training Set Accuracy')\n",
    "plt.title('Epochs vs Accuracy')\n",
    "plt.xlabel('Epochs')\n",
    "plt.ylabel('Accuracy')\n",
    "plt.legend()\n",
    "plt.show()"
   ]
  },
  {
   "cell_type": "markdown",
   "id": "9979d168-d47b-481a-a6dd-4de51af41d6b",
   "metadata": {},
   "source": [
    "# Implement Early Stopping"
   ]
  },
  {
   "cell_type": "code",
   "execution_count": null,
   "id": "f91f5e14-aec0-4bbd-826b-5937ca0268ec",
   "metadata": {},
   "outputs": [],
   "source": []
  },
  {
   "cell_type": "code",
   "execution_count": null,
   "id": "27483656-a408-4b5a-b186-3ceae37929b9",
   "metadata": {},
   "outputs": [],
   "source": []
  },
  {
   "cell_type": "code",
   "execution_count": null,
   "id": "c9a1c716-4d2a-48bd-a1c0-22120f657401",
   "metadata": {},
   "outputs": [],
   "source": []
  },
  {
   "cell_type": "code",
   "execution_count": null,
   "id": "86a16997-89a6-49b7-af54-ce20424eac65",
   "metadata": {},
   "outputs": [],
   "source": [
    "history_es = pd.DataFrame(result_es.history)"
   ]
  },
  {
   "cell_type": "code",
   "execution_count": null,
   "id": "dba40d6e-4168-4b90-be5b-32065ea2b492",
   "metadata": {},
   "outputs": [],
   "source": [
    "plt.figure(figsize = (15,4))\n",
    "plt.plot(history_es.val_loss, label='Test Set Loss')\n",
    "plt.plot(history_es.loss, label='Training Set Loss')\n",
    "plt.title('Epochs vs Loss (Early Stopping)')\n",
    "plt.xlabel('Epochs')\n",
    "plt.ylabel('Loss')\n",
    "plt.legend()\n",
    "plt.show()"
   ]
  },
  {
   "cell_type": "code",
   "execution_count": null,
   "id": "d6c10c25-ce5e-4752-ace3-6bd0f9ad6902",
   "metadata": {},
   "outputs": [],
   "source": [
    "plt.figure(figsize = (15,4))\n",
    "plt.plot(history_es.val_accuracy, label='Test Set Accuracy')\n",
    "plt.plot(history_es.accuracy, label='Training Set Accuracy')\n",
    "plt.title('Epochs vs Accuracy (Early Stopping)')\n",
    "plt.xlabel('Epochs')\n",
    "plt.ylabel('Accuracy')\n",
    "plt.legend()\n",
    "plt.show()"
   ]
  },
  {
   "cell_type": "markdown",
   "id": "154daf81-3905-4ebf-a1b7-e319fe08d5ba",
   "metadata": {},
   "source": [
    "# Implementing L1 Regularization"
   ]
  },
  {
   "cell_type": "code",
   "execution_count": null,
   "id": "a380d9d2-5416-4433-9b66-12cb07b95bf3",
   "metadata": {},
   "outputs": [],
   "source": []
  },
  {
   "cell_type": "code",
   "execution_count": null,
   "id": "c564e067-9070-45c0-ba7f-534f01e4ade4",
   "metadata": {},
   "outputs": [],
   "source": []
  },
  {
   "cell_type": "code",
   "execution_count": null,
   "id": "f1059036-871d-41fa-a887-877cb21252e9",
   "metadata": {},
   "outputs": [],
   "source": []
  },
  {
   "cell_type": "code",
   "execution_count": null,
   "id": "0990b2e3-b4e6-48bd-8610-138515135202",
   "metadata": {},
   "outputs": [],
   "source": []
  },
  {
   "cell_type": "code",
   "execution_count": null,
   "id": "3881632a-a405-42f0-bd8b-0d3b05a40ff3",
   "metadata": {},
   "outputs": [],
   "source": [
    "history_reg = pd.DataFrame(result_reg.history)"
   ]
  },
  {
   "cell_type": "code",
   "execution_count": null,
   "id": "956ce9f9-301b-4ce8-94b9-275ad86a8379",
   "metadata": {},
   "outputs": [],
   "source": [
    "plt.figure(figsize = (25,6))\n",
    "plt.plot(history_reg.val_loss, label='Test Set Loss')\n",
    "plt.plot(history_reg.loss, label='Training Set Loss')\n",
    "plt.title('Epochs vs Loss (L1 Regularization)')\n",
    "plt.xlabel('Epochs')\n",
    "plt.ylabel('Loss')\n",
    "plt.legend()\n",
    "plt.show()"
   ]
  },
  {
   "cell_type": "markdown",
   "id": "3240752f-6f70-4dbb-aa33-2f188993f339",
   "metadata": {},
   "source": [
    "# Implement Dropout Regularization"
   ]
  },
  {
   "cell_type": "code",
   "execution_count": null,
   "id": "24cb0007-18d9-4d61-a422-d337bccec630",
   "metadata": {},
   "outputs": [],
   "source": []
  },
  {
   "cell_type": "code",
   "execution_count": null,
   "id": "40bee272-3e9c-4bac-929e-67046406f419",
   "metadata": {},
   "outputs": [],
   "source": []
  },
  {
   "cell_type": "code",
   "execution_count": null,
   "id": "708181b1-ad0d-4c85-be4f-2e5e829063ca",
   "metadata": {},
   "outputs": [],
   "source": []
  },
  {
   "cell_type": "code",
   "execution_count": null,
   "id": "44bc2fb8-c20d-469d-95f6-020f39a492f5",
   "metadata": {},
   "outputs": [],
   "source": []
  },
  {
   "cell_type": "code",
   "execution_count": null,
   "id": "b2daf37b-0dc9-40c6-af01-cb296e133b4f",
   "metadata": {},
   "outputs": [],
   "source": []
  },
  {
   "cell_type": "code",
   "execution_count": null,
   "id": "e589b4b2-5150-4a45-929c-bd564630aa85",
   "metadata": {},
   "outputs": [],
   "source": []
  },
  {
   "cell_type": "code",
   "execution_count": null,
   "id": "1f240760-dcd5-427e-9d0b-6bed896f0b4b",
   "metadata": {},
   "outputs": [],
   "source": [
    "history_drp = pd.DataFrame(result_drp.history)"
   ]
  },
  {
   "cell_type": "code",
   "execution_count": null,
   "id": "4cbb1d21-a764-4bd2-a7fe-14d3ea650434",
   "metadata": {},
   "outputs": [],
   "source": [
    "plt.figure(figsize = (15,6))\n",
    "plt.plot(history_drp.val_loss, label='Test Set Loss')\n",
    "plt.plot(history_drp.loss, label='Training Set Loss')\n",
    "plt.title('Epochs vs Loss (Dropout Regularization)')\n",
    "plt.xlabel('Epochs')\n",
    "plt.ylabel('Loss')\n",
    "plt.legend()\n",
    "plt.show()"
   ]
  },
  {
   "cell_type": "code",
   "execution_count": null,
   "id": "dcf74587-c7ed-4678-b6ff-2aa3825c4bb3",
   "metadata": {},
   "outputs": [],
   "source": [
    "plt.figure(figsize = (15,6))\n",
    "plt.plot(history_drp.val_accuracy, label='Test Set Accuracy')\n",
    "plt.plot(history_drp.accuracy, label='Training Set Accuracy')\n",
    "plt.title('Epochs vs Accuracy (Dropout Regularization)')\n",
    "plt.xlabel('Epochs')\n",
    "plt.ylabel('Accuracy')\n",
    "plt.legend()\n",
    "plt.show()"
   ]
  },
  {
   "cell_type": "code",
   "execution_count": null,
   "id": "30247547-1541-4c7d-aea1-2925ef5c1ac1",
   "metadata": {},
   "outputs": [],
   "source": []
  }
 ],
 "metadata": {
  "kernelspec": {
   "display_name": "Python 3",
   "language": "python",
   "name": "python3"
  },
  "language_info": {
   "codemirror_mode": {
    "name": "ipython",
    "version": 3
   },
   "file_extension": ".py",
   "mimetype": "text/x-python",
   "name": "python",
   "nbconvert_exporter": "python",
   "pygments_lexer": "ipython3",
   "version": "3.7.6"
  }
 },
 "nbformat": 4,
 "nbformat_minor": 5
}
