{
 "cells": [
  {
   "cell_type": "markdown",
   "metadata": {
    "id": "T7dK13YKcpKF"
   },
   "source": [
    "# Hyperparameter Tuning"
   ]
  },
  {
   "cell_type": "code",
   "execution_count": 1,
   "metadata": {
    "id": "sY0i3HzSUm_5"
   },
   "outputs": [],
   "source": [
    "import pandas as pd\n",
    "import numpy as np\n",
    "\n",
    "import warnings\n",
    "warnings.filterwarnings('ignore')"
   ]
  },
  {
   "cell_type": "code",
   "execution_count": 2,
   "metadata": {
    "id": "15oKoyQAl3OT"
   },
   "outputs": [],
   "source": [
    "np.random.seed(12345)"
   ]
  },
  {
   "cell_type": "code",
   "execution_count": 3,
   "metadata": {
    "id": "VFh-uDNDU94r"
   },
   "outputs": [],
   "source": [
    "df_diab = pd.read_csv('diabetes.csv')"
   ]
  },
  {
   "cell_type": "code",
   "execution_count": 4,
   "metadata": {
    "colab": {
     "base_uri": "https://localhost:8080/",
     "height": 270
    },
    "id": "l-0WhE1uU_KM",
    "outputId": "4a9d3697-e720-4090-932d-55694dbfd50e"
   },
   "outputs": [
    {
     "data": {
      "text/html": [
       "<div>\n",
       "<style scoped>\n",
       "    .dataframe tbody tr th:only-of-type {\n",
       "        vertical-align: middle;\n",
       "    }\n",
       "\n",
       "    .dataframe tbody tr th {\n",
       "        vertical-align: top;\n",
       "    }\n",
       "\n",
       "    .dataframe thead th {\n",
       "        text-align: right;\n",
       "    }\n",
       "</style>\n",
       "<table border=\"1\" class=\"dataframe\">\n",
       "  <thead>\n",
       "    <tr style=\"text-align: right;\">\n",
       "      <th></th>\n",
       "      <th>Pregnancies</th>\n",
       "      <th>Glucose</th>\n",
       "      <th>BloodPressure</th>\n",
       "      <th>SkinThickness</th>\n",
       "      <th>Insulin</th>\n",
       "      <th>BMI</th>\n",
       "      <th>DiabetesPedigreeFunction</th>\n",
       "      <th>Age</th>\n",
       "      <th>Outcome</th>\n",
       "    </tr>\n",
       "  </thead>\n",
       "  <tbody>\n",
       "    <tr>\n",
       "      <th>0</th>\n",
       "      <td>6</td>\n",
       "      <td>148</td>\n",
       "      <td>72</td>\n",
       "      <td>35</td>\n",
       "      <td>0</td>\n",
       "      <td>33.6</td>\n",
       "      <td>0.627</td>\n",
       "      <td>50</td>\n",
       "      <td>1</td>\n",
       "    </tr>\n",
       "    <tr>\n",
       "      <th>1</th>\n",
       "      <td>1</td>\n",
       "      <td>85</td>\n",
       "      <td>66</td>\n",
       "      <td>29</td>\n",
       "      <td>0</td>\n",
       "      <td>26.6</td>\n",
       "      <td>0.351</td>\n",
       "      <td>31</td>\n",
       "      <td>0</td>\n",
       "    </tr>\n",
       "    <tr>\n",
       "      <th>2</th>\n",
       "      <td>8</td>\n",
       "      <td>183</td>\n",
       "      <td>64</td>\n",
       "      <td>0</td>\n",
       "      <td>0</td>\n",
       "      <td>23.3</td>\n",
       "      <td>0.672</td>\n",
       "      <td>32</td>\n",
       "      <td>1</td>\n",
       "    </tr>\n",
       "    <tr>\n",
       "      <th>3</th>\n",
       "      <td>1</td>\n",
       "      <td>89</td>\n",
       "      <td>66</td>\n",
       "      <td>23</td>\n",
       "      <td>94</td>\n",
       "      <td>28.1</td>\n",
       "      <td>0.167</td>\n",
       "      <td>21</td>\n",
       "      <td>0</td>\n",
       "    </tr>\n",
       "    <tr>\n",
       "      <th>4</th>\n",
       "      <td>0</td>\n",
       "      <td>137</td>\n",
       "      <td>40</td>\n",
       "      <td>35</td>\n",
       "      <td>168</td>\n",
       "      <td>43.1</td>\n",
       "      <td>2.288</td>\n",
       "      <td>33</td>\n",
       "      <td>1</td>\n",
       "    </tr>\n",
       "  </tbody>\n",
       "</table>\n",
       "</div>"
      ],
      "text/plain": [
       "   Pregnancies  Glucose  BloodPressure  SkinThickness  Insulin   BMI  \\\n",
       "0            6      148             72             35        0  33.6   \n",
       "1            1       85             66             29        0  26.6   \n",
       "2            8      183             64              0        0  23.3   \n",
       "3            1       89             66             23       94  28.1   \n",
       "4            0      137             40             35      168  43.1   \n",
       "\n",
       "   DiabetesPedigreeFunction  Age  Outcome  \n",
       "0                     0.627   50        1  \n",
       "1                     0.351   31        0  \n",
       "2                     0.672   32        1  \n",
       "3                     0.167   21        0  \n",
       "4                     2.288   33        1  "
      ]
     },
     "execution_count": 4,
     "metadata": {},
     "output_type": "execute_result"
    }
   ],
   "source": [
    "df_diab.head()"
   ]
  },
  {
   "cell_type": "code",
   "execution_count": 5,
   "metadata": {
    "colab": {
     "base_uri": "https://localhost:8080/"
    },
    "id": "poKusIRIVAiS",
    "outputId": "0719534d-0f2e-4329-b96a-acd335ae3f0e"
   },
   "outputs": [
    {
     "data": {
      "text/plain": [
       "array([1, 0])"
      ]
     },
     "execution_count": 5,
     "metadata": {},
     "output_type": "execute_result"
    }
   ],
   "source": [
    "df_diab.Outcome.unique()"
   ]
  },
  {
   "cell_type": "code",
   "execution_count": 6,
   "metadata": {
    "colab": {
     "base_uri": "https://localhost:8080/"
    },
    "id": "vIhNwqKqT4qU",
    "outputId": "d2aff50c-fa76-455e-e05e-123b09c1e80a"
   },
   "outputs": [
    {
     "data": {
      "text/plain": [
       "(768, 9)"
      ]
     },
     "execution_count": 6,
     "metadata": {},
     "output_type": "execute_result"
    }
   ],
   "source": [
    "df_diab.shape"
   ]
  },
  {
   "cell_type": "code",
   "execution_count": 7,
   "metadata": {
    "colab": {
     "base_uri": "https://localhost:8080/"
    },
    "id": "QLxcGFbaVCG9",
    "outputId": "0fb3d51e-999c-4400-ddca-729509633432"
   },
   "outputs": [
    {
     "data": {
      "text/plain": [
       "Pregnancies                 0\n",
       "Glucose                     0\n",
       "BloodPressure               0\n",
       "SkinThickness               0\n",
       "Insulin                     0\n",
       "BMI                         0\n",
       "DiabetesPedigreeFunction    0\n",
       "Age                         0\n",
       "Outcome                     0\n",
       "dtype: int64"
      ]
     },
     "execution_count": 7,
     "metadata": {},
     "output_type": "execute_result"
    }
   ],
   "source": [
    "df_diab.isna().sum()"
   ]
  },
  {
   "cell_type": "code",
   "execution_count": 8,
   "metadata": {
    "id": "wIk8UTIhVDkD"
   },
   "outputs": [],
   "source": [
    "X = df_diab.drop(['Outcome'],axis=1)\n",
    "y = df_diab[['Outcome']]"
   ]
  },
  {
   "cell_type": "code",
   "execution_count": 9,
   "metadata": {
    "id": "khMcWJrEVF-S"
   },
   "outputs": [],
   "source": [
    "from sklearn.model_selection import train_test_split"
   ]
  },
  {
   "cell_type": "code",
   "execution_count": 10,
   "metadata": {
    "id": "kmiPAPcsVHeH"
   },
   "outputs": [],
   "source": [
    "X_train, X_test, y_train,y_test = train_test_split(X,\n",
    "                                                   y, \n",
    "                                                   stratify=y,\n",
    "                                                   test_size=0.2,\n",
    "                                                   random_state=12345)"
   ]
  },
  {
   "cell_type": "code",
   "execution_count": 11,
   "metadata": {},
   "outputs": [
    {
     "data": {
      "text/plain": [
       "((614, 8), (154, 8), (614, 1), (154, 1))"
      ]
     },
     "execution_count": 11,
     "metadata": {},
     "output_type": "execute_result"
    }
   ],
   "source": [
    "X_train.shape, X_test.shape, y_train.shape, y_test.shape"
   ]
  },
  {
   "cell_type": "code",
   "execution_count": 12,
   "metadata": {
    "id": "m5wuyz6CVJdf"
   },
   "outputs": [],
   "source": [
    "from sklearn.preprocessing import StandardScaler"
   ]
  },
  {
   "cell_type": "code",
   "execution_count": 13,
   "metadata": {
    "id": "sC7hjMxBVLTl"
   },
   "outputs": [],
   "source": [
    "scaler = StandardScaler()\n",
    "X_train_scaled = scaler.fit_transform(X_train)\n",
    "X_test_scaled = scaler.transform(X_test)"
   ]
  },
  {
   "cell_type": "code",
   "execution_count": 14,
   "metadata": {
    "id": "2C18D-EWVM8g"
   },
   "outputs": [],
   "source": [
    "import tensorflow as tf"
   ]
  },
  {
   "cell_type": "code",
   "execution_count": 15,
   "metadata": {
    "id": "aHqz-uMWVO7W"
   },
   "outputs": [],
   "source": [
    "from tensorflow.keras.models import Sequential"
   ]
  },
  {
   "cell_type": "code",
   "execution_count": 16,
   "metadata": {
    "id": "lNsGZCeLVQUU"
   },
   "outputs": [],
   "source": [
    "from tensorflow.keras.layers import Dense, Dropout"
   ]
  },
  {
   "cell_type": "code",
   "execution_count": 17,
   "metadata": {},
   "outputs": [],
   "source": [
    "tf.random.set_seed(12345)"
   ]
  },
  {
   "cell_type": "markdown",
   "metadata": {
    "id": "WYsTueyBWuil"
   },
   "source": [
    "# Hyperparameter Tuning"
   ]
  },
  {
   "cell_type": "code",
   "execution_count": 18,
   "metadata": {
    "id": "VtR5Jaa1W1Ai"
   },
   "outputs": [],
   "source": [
    "def build_model(hp):\n",
    "    # Instantiate the model\n",
    "    model = Sequential()\n",
    "    \n",
    "    # Define first layer -> optimization for number of units and activation function\n",
    "    model.add(Dense(units = hp.Int(\"units1\",min_value = 32, max_value=1024, step=16),\n",
    "                   activation = hp.Choice(\"activation1\",[\"relu\",\"tanh\"]),\n",
    "                    input_shape = (X_train_scaled.shape[1],)\n",
    "                   ))\n",
    "    # Define dropout layer by providing the optimization of dropout rate\n",
    "    model.add(Dropout(hp.Float(\"rate1\",min_value=0.1, max_value = 0.4, step=0.1),seed = 12345))\n",
    "    \n",
    "    # Add second layer\n",
    "    model.add(Dense(units = hp.Int(\"units2\",min_value = 32, max_value=128, step=16),\n",
    "                   activation = hp.Choice(\"activation2\",[\"relu\",\"tanh\"])\n",
    "                   ))\n",
    "    \n",
    "\n",
    "    model.add(Dropout(hp.Float(\"rate2\",min_value=0.1, max_value = 0.4, step=0.1),seed = 12345))\n",
    "\n",
    "    # Add third layer\n",
    "    model.add(Dense(units = hp.Int(\"units3\",min_value = 32, max_value=128, step=16),\n",
    "                   activation = hp.Choice(\"activation3\",[\"relu\",\"tanh\"])\n",
    "                   ))\n",
    "        \n",
    "    # Output Layer\n",
    "    model.add(Dense(units=1, activation='sigmoid'))\n",
    "    \n",
    "    # define values for learning rate\n",
    "    learning_rate = hp.Float(\"learning_rate\",min_value = 0.001, max_value=0.1, step=0.01)\n",
    "    \n",
    "    model.compile(optimizer = tf.keras.optimizers.Adam(lr=learning_rate),\n",
    "                  loss = 'binary_crossentropy',\n",
    "                  metrics = ['accuracy']\n",
    "                 )\n",
    "    return model"
   ]
  },
  {
   "cell_type": "code",
   "execution_count": 19,
   "metadata": {
    "id": "FE0M-vQJXcRX"
   },
   "outputs": [
    {
     "data": {
      "text/plain": [
       "<keras.engine.sequential.Sequential at 0x7fba347403d0>"
      ]
     },
     "execution_count": 19,
     "metadata": {},
     "output_type": "execute_result"
    }
   ],
   "source": [
    "import keras_tuner as kt\n",
    "\n",
    "build_model(kt.HyperParameters())"
   ]
  },
  {
   "cell_type": "code",
   "execution_count": 20,
   "metadata": {
    "id": "aiPQlkygXfUo"
   },
   "outputs": [],
   "source": [
    "rtuner = kt.RandomSearch(hypermodel=build_model,\n",
    "    objective=\"val_accuracy\",\n",
    "    max_trials=5,\n",
    "    seed=12345,\n",
    "    overwrite=True,\n",
    "    directory=\"my_dir\",\n",
    "    project_name=\"diab\")"
   ]
  },
  {
   "cell_type": "code",
   "execution_count": 21,
   "metadata": {
    "id": "kG4OuHZkXvKx"
   },
   "outputs": [
    {
     "name": "stdout",
     "output_type": "stream",
     "text": [
      "Trial 5 Complete [00h 00m 01s]\n",
      "val_accuracy: 0.798701286315918\n",
      "\n",
      "Best val_accuracy So Far: 0.8116883039474487\n",
      "Total elapsed time: 00h 00m 09s\n",
      "INFO:tensorflow:Oracle triggered exit\n"
     ]
    }
   ],
   "source": [
    "rtuner.search(X_train_scaled, \n",
    "              y_train, \n",
    "              epochs=10, \n",
    "              validation_data=(X_test_scaled, y_test))"
   ]
  },
  {
   "cell_type": "code",
   "execution_count": 22,
   "metadata": {
    "id": "cis-pURvX0bm"
   },
   "outputs": [],
   "source": [
    "models = rtuner.get_best_models(num_models=2)"
   ]
  },
  {
   "cell_type": "code",
   "execution_count": 23,
   "metadata": {
    "id": "XlB2bdyYX806"
   },
   "outputs": [
    {
     "name": "stdout",
     "output_type": "stream",
     "text": [
      "Model: \"sequential\"\n",
      "_________________________________________________________________\n",
      " Layer (type)                Output Shape              Param #   \n",
      "=================================================================\n",
      " dense (Dense)               (None, 720)               6480      \n",
      "                                                                 \n",
      " dropout (Dropout)           (None, 720)               0         \n",
      "                                                                 \n",
      " dense_1 (Dense)             (None, 64)                46144     \n",
      "                                                                 \n",
      " dropout_1 (Dropout)         (None, 64)                0         \n",
      "                                                                 \n",
      " dense_2 (Dense)             (None, 96)                6240      \n",
      "                                                                 \n",
      " dense_3 (Dense)             (None, 1)                 97        \n",
      "                                                                 \n",
      "=================================================================\n",
      "Total params: 58,961\n",
      "Trainable params: 58,961\n",
      "Non-trainable params: 0\n",
      "_________________________________________________________________\n"
     ]
    }
   ],
   "source": [
    "models[0].summary()"
   ]
  },
  {
   "cell_type": "code",
   "execution_count": 24,
   "metadata": {
    "id": "cmJJh5PXSC06"
   },
   "outputs": [
    {
     "name": "stdout",
     "output_type": "stream",
     "text": [
      "Model: \"sequential\"\n",
      "_________________________________________________________________\n",
      " Layer (type)                Output Shape              Param #   \n",
      "=================================================================\n",
      " dense (Dense)               (None, 160)               1440      \n",
      "                                                                 \n",
      " dropout (Dropout)           (None, 160)               0         \n",
      "                                                                 \n",
      " dense_1 (Dense)             (None, 80)                12880     \n",
      "                                                                 \n",
      " dropout_1 (Dropout)         (None, 80)                0         \n",
      "                                                                 \n",
      " dense_2 (Dense)             (None, 128)               10368     \n",
      "                                                                 \n",
      " dense_3 (Dense)             (None, 1)                 129       \n",
      "                                                                 \n",
      "=================================================================\n",
      "Total params: 24,817\n",
      "Trainable params: 24,817\n",
      "Non-trainable params: 0\n",
      "_________________________________________________________________\n"
     ]
    }
   ],
   "source": [
    "models[1].summary()"
   ]
  },
  {
   "cell_type": "code",
   "execution_count": 25,
   "metadata": {},
   "outputs": [
    {
     "name": "stdout",
     "output_type": "stream",
     "text": [
      "Results summary\n",
      "Results in my_dir/diab\n",
      "Showing 10 best trials\n",
      "<keras_tuner.engine.objective.Objective object at 0x7fba305945d0>\n",
      "Trial summary\n",
      "Hyperparameters:\n",
      "units1: 720\n",
      "activation1: relu\n",
      "rate1: 0.30000000000000004\n",
      "units2: 64\n",
      "activation2: relu\n",
      "rate2: 0.4\n",
      "units3: 96\n",
      "activation3: tanh\n",
      "learning_rate: 0.030999999999999996\n",
      "Score: 0.8116883039474487\n",
      "Trial summary\n",
      "Hyperparameters:\n",
      "units1: 160\n",
      "activation1: tanh\n",
      "rate1: 0.30000000000000004\n",
      "units2: 80\n",
      "activation2: tanh\n",
      "rate2: 0.2\n",
      "units3: 128\n",
      "activation3: tanh\n",
      "learning_rate: 0.030999999999999996\n",
      "Score: 0.8051947951316833\n",
      "Trial summary\n",
      "Hyperparameters:\n",
      "units1: 448\n",
      "activation1: tanh\n",
      "rate1: 0.2\n",
      "units2: 32\n",
      "activation2: relu\n",
      "rate2: 0.2\n",
      "units3: 64\n",
      "activation3: tanh\n",
      "learning_rate: 0.040999999999999995\n",
      "Score: 0.798701286315918\n",
      "Trial summary\n",
      "Hyperparameters:\n",
      "units1: 464\n",
      "activation1: relu\n",
      "rate1: 0.4\n",
      "units2: 48\n",
      "activation2: relu\n",
      "rate2: 0.30000000000000004\n",
      "units3: 48\n",
      "activation3: relu\n",
      "learning_rate: 0.040999999999999995\n",
      "Score: 0.798701286315918\n",
      "Trial summary\n",
      "Hyperparameters:\n",
      "units1: 640\n",
      "activation1: tanh\n",
      "rate1: 0.30000000000000004\n",
      "units2: 32\n",
      "activation2: tanh\n",
      "rate2: 0.30000000000000004\n",
      "units3: 80\n",
      "activation3: relu\n",
      "learning_rate: 0.020999999999999998\n",
      "Score: 0.798701286315918\n"
     ]
    }
   ],
   "source": [
    "rtuner.results_summary()"
   ]
  },
  {
   "cell_type": "code",
   "execution_count": 26,
   "metadata": {
    "id": "SAniZNDoX-3d"
   },
   "outputs": [],
   "source": [
    "y_test_pred =  models[0].predict(X_test_scaled) >= 0.5"
   ]
  },
  {
   "cell_type": "code",
   "execution_count": 27,
   "metadata": {
    "id": "32kqkWv4Kw-1"
   },
   "outputs": [],
   "source": [
    "from sklearn.metrics import accuracy_score"
   ]
  },
  {
   "cell_type": "code",
   "execution_count": 28,
   "metadata": {
    "id": "12MMGaVbYI-U"
   },
   "outputs": [
    {
     "data": {
      "text/plain": [
       "0.8116883116883117"
      ]
     },
     "execution_count": 28,
     "metadata": {},
     "output_type": "execute_result"
    }
   ],
   "source": [
    "accuracy_score(y_pred = y_test_pred, y_true = y_test )"
   ]
  },
  {
   "cell_type": "code",
   "execution_count": 29,
   "metadata": {
    "id": "77ULZ8-XaeE4"
   },
   "outputs": [
    {
     "data": {
      "text/plain": [
       "{'units1': 720,\n",
       " 'activation1': 'relu',\n",
       " 'rate1': 0.30000000000000004,\n",
       " 'units2': 64,\n",
       " 'activation2': 'relu',\n",
       " 'rate2': 0.4,\n",
       " 'units3': 96,\n",
       " 'activation3': 'tanh',\n",
       " 'learning_rate': 0.030999999999999996}"
      ]
     },
     "execution_count": 29,
     "metadata": {},
     "output_type": "execute_result"
    }
   ],
   "source": [
    "rtuner.get_best_hyperparameters()[0].get_config()['values']"
   ]
  },
  {
   "cell_type": "markdown",
   "metadata": {
    "id": "eABIVjG6cx6m"
   },
   "source": [
    "# Explainable AI"
   ]
  },
  {
   "cell_type": "code",
   "execution_count": null,
   "metadata": {
    "id": "LBSyPrVnc8VX"
   },
   "outputs": [],
   "source": [
    "import shap"
   ]
  },
  {
   "cell_type": "code",
   "execution_count": null,
   "metadata": {},
   "outputs": [],
   "source": [
    "shap.__version__"
   ]
  },
  {
   "cell_type": "code",
   "execution_count": null,
   "metadata": {
    "id": "Ga4lfYvgs32c"
   },
   "outputs": [],
   "source": [
    "from tensorflow.python.ops.numpy_ops import np_config\n",
    "np_config.enable_numpy_behavior()"
   ]
  },
  {
   "cell_type": "code",
   "execution_count": null,
   "metadata": {
    "colab": {
     "base_uri": "https://localhost:8080/"
    },
    "id": "IVYWtjV9dD_b",
    "outputId": "a0cbc1c1-c3e1-4ba9-dc68-a194a9b1e23b"
   },
   "outputs": [],
   "source": [
    "explainer = shap.KernelExplainer(models[0], data=X_train_scaled)"
   ]
  },
  {
   "cell_type": "code",
   "execution_count": null,
   "metadata": {
    "id": "9QlHigaeerT8"
   },
   "outputs": [],
   "source": [
    "features = df_diab.columns"
   ]
  },
  {
   "cell_type": "code",
   "execution_count": null,
   "metadata": {
    "id": "5R6XfpKMevpy"
   },
   "outputs": [],
   "source": [
    "features = features[0:-1]"
   ]
  },
  {
   "cell_type": "code",
   "execution_count": null,
   "metadata": {
    "colab": {
     "base_uri": "https://localhost:8080/"
    },
    "id": "V2dXz2BRezoy",
    "outputId": "da2b6f03-ee0d-4ae8-e3bd-ada357ae5af3"
   },
   "outputs": [],
   "source": [
    "features"
   ]
  },
  {
   "cell_type": "code",
   "execution_count": null,
   "metadata": {
    "colab": {
     "base_uri": "https://localhost:8080/"
    },
    "id": "6roySRZpe2Yq",
    "outputId": "ef91f3be-a42e-406b-902e-67494840d5ad"
   },
   "outputs": [],
   "source": [
    "df_diab.columns"
   ]
  },
  {
   "cell_type": "code",
   "execution_count": null,
   "metadata": {
    "colab": {
     "base_uri": "https://localhost:8080/",
     "height": 49,
     "referenced_widgets": [
      "909eb3444df4430fafc92bb96f3c648f",
      "d0bfdd4cecf3454c8052caf1e587ffb6",
      "384470846b584f8392c5cb96f15d12b6",
      "016ac13b72554e6db8b27a7e0bef0dd1",
      "46fc011f40474a99b06b953efc1bd46f",
      "db9fae562ba549b689c9b1e45aec7164",
      "cfeb48dd554d4ba9a3e35e0b4c24a395",
      "fa35e9ae30c341f2ac8d5e5dd6fb0964",
      "a369d10e821347a7a7f4bea38cb7e6cf",
      "8b158d053e4f48538c2577842f8ac73b",
      "4b558789c66f4ba0bc96409c34d2b9bf"
     ]
    },
    "id": "y6pV7rTEdVxV",
    "outputId": "a6b4b393-439a-447e-d9ff-130b2c9c1a5a"
   },
   "outputs": [],
   "source": [
    "shap_values = explainer.shap_values(X_test_scaled)"
   ]
  },
  {
   "cell_type": "code",
   "execution_count": null,
   "metadata": {
    "colab": {
     "base_uri": "https://localhost:8080/",
     "height": 320
    },
    "id": "UCYoQarafYzJ",
    "outputId": "6aa2e767-ed28-46df-d094-2335b0b29667"
   },
   "outputs": [],
   "source": [
    "shap.summary_plot(shap_values, X_test_scaled, feature_names = features)"
   ]
  },
  {
   "cell_type": "code",
   "execution_count": null,
   "metadata": {},
   "outputs": [],
   "source": []
  }
 ],
 "metadata": {
  "accelerator": "GPU",
  "colab": {
   "provenance": []
  },
  "kernelspec": {
   "display_name": "Python 3",
   "language": "python",
   "name": "python3"
  },
  "language_info": {
   "codemirror_mode": {
    "name": "ipython",
    "version": 3
   },
   "file_extension": ".py",
   "mimetype": "text/x-python",
   "name": "python",
   "nbconvert_exporter": "python",
   "pygments_lexer": "ipython3",
   "version": "3.7.6"
  },
  "widgets": {
   "application/vnd.jupyter.widget-state+json": {
    "016ac13b72554e6db8b27a7e0bef0dd1": {
     "model_module": "@jupyter-widgets/controls",
     "model_module_version": "1.5.0",
     "model_name": "HTMLModel",
     "state": {
      "_dom_classes": [],
      "_model_module": "@jupyter-widgets/controls",
      "_model_module_version": "1.5.0",
      "_model_name": "HTMLModel",
      "_view_count": null,
      "_view_module": "@jupyter-widgets/controls",
      "_view_module_version": "1.5.0",
      "_view_name": "HTMLView",
      "description": "",
      "description_tooltip": null,
      "layout": "IPY_MODEL_8b158d053e4f48538c2577842f8ac73b",
      "placeholder": "​",
      "style": "IPY_MODEL_4b558789c66f4ba0bc96409c34d2b9bf",
      "value": " 154/154 [01:51&lt;00:00,  1.44it/s]"
     }
    },
    "384470846b584f8392c5cb96f15d12b6": {
     "model_module": "@jupyter-widgets/controls",
     "model_module_version": "1.5.0",
     "model_name": "FloatProgressModel",
     "state": {
      "_dom_classes": [],
      "_model_module": "@jupyter-widgets/controls",
      "_model_module_version": "1.5.0",
      "_model_name": "FloatProgressModel",
      "_view_count": null,
      "_view_module": "@jupyter-widgets/controls",
      "_view_module_version": "1.5.0",
      "_view_name": "ProgressView",
      "bar_style": "success",
      "description": "",
      "description_tooltip": null,
      "layout": "IPY_MODEL_fa35e9ae30c341f2ac8d5e5dd6fb0964",
      "max": 154,
      "min": 0,
      "orientation": "horizontal",
      "style": "IPY_MODEL_a369d10e821347a7a7f4bea38cb7e6cf",
      "value": 154
     }
    },
    "46fc011f40474a99b06b953efc1bd46f": {
     "model_module": "@jupyter-widgets/base",
     "model_module_version": "1.2.0",
     "model_name": "LayoutModel",
     "state": {
      "_model_module": "@jupyter-widgets/base",
      "_model_module_version": "1.2.0",
      "_model_name": "LayoutModel",
      "_view_count": null,
      "_view_module": "@jupyter-widgets/base",
      "_view_module_version": "1.2.0",
      "_view_name": "LayoutView",
      "align_content": null,
      "align_items": null,
      "align_self": null,
      "border": null,
      "bottom": null,
      "display": null,
      "flex": null,
      "flex_flow": null,
      "grid_area": null,
      "grid_auto_columns": null,
      "grid_auto_flow": null,
      "grid_auto_rows": null,
      "grid_column": null,
      "grid_gap": null,
      "grid_row": null,
      "grid_template_areas": null,
      "grid_template_columns": null,
      "grid_template_rows": null,
      "height": null,
      "justify_content": null,
      "justify_items": null,
      "left": null,
      "margin": null,
      "max_height": null,
      "max_width": null,
      "min_height": null,
      "min_width": null,
      "object_fit": null,
      "object_position": null,
      "order": null,
      "overflow": null,
      "overflow_x": null,
      "overflow_y": null,
      "padding": null,
      "right": null,
      "top": null,
      "visibility": null,
      "width": null
     }
    },
    "4b558789c66f4ba0bc96409c34d2b9bf": {
     "model_module": "@jupyter-widgets/controls",
     "model_module_version": "1.5.0",
     "model_name": "DescriptionStyleModel",
     "state": {
      "_model_module": "@jupyter-widgets/controls",
      "_model_module_version": "1.5.0",
      "_model_name": "DescriptionStyleModel",
      "_view_count": null,
      "_view_module": "@jupyter-widgets/base",
      "_view_module_version": "1.2.0",
      "_view_name": "StyleView",
      "description_width": ""
     }
    },
    "8b158d053e4f48538c2577842f8ac73b": {
     "model_module": "@jupyter-widgets/base",
     "model_module_version": "1.2.0",
     "model_name": "LayoutModel",
     "state": {
      "_model_module": "@jupyter-widgets/base",
      "_model_module_version": "1.2.0",
      "_model_name": "LayoutModel",
      "_view_count": null,
      "_view_module": "@jupyter-widgets/base",
      "_view_module_version": "1.2.0",
      "_view_name": "LayoutView",
      "align_content": null,
      "align_items": null,
      "align_self": null,
      "border": null,
      "bottom": null,
      "display": null,
      "flex": null,
      "flex_flow": null,
      "grid_area": null,
      "grid_auto_columns": null,
      "grid_auto_flow": null,
      "grid_auto_rows": null,
      "grid_column": null,
      "grid_gap": null,
      "grid_row": null,
      "grid_template_areas": null,
      "grid_template_columns": null,
      "grid_template_rows": null,
      "height": null,
      "justify_content": null,
      "justify_items": null,
      "left": null,
      "margin": null,
      "max_height": null,
      "max_width": null,
      "min_height": null,
      "min_width": null,
      "object_fit": null,
      "object_position": null,
      "order": null,
      "overflow": null,
      "overflow_x": null,
      "overflow_y": null,
      "padding": null,
      "right": null,
      "top": null,
      "visibility": null,
      "width": null
     }
    },
    "909eb3444df4430fafc92bb96f3c648f": {
     "model_module": "@jupyter-widgets/controls",
     "model_module_version": "1.5.0",
     "model_name": "HBoxModel",
     "state": {
      "_dom_classes": [],
      "_model_module": "@jupyter-widgets/controls",
      "_model_module_version": "1.5.0",
      "_model_name": "HBoxModel",
      "_view_count": null,
      "_view_module": "@jupyter-widgets/controls",
      "_view_module_version": "1.5.0",
      "_view_name": "HBoxView",
      "box_style": "",
      "children": [
       "IPY_MODEL_d0bfdd4cecf3454c8052caf1e587ffb6",
       "IPY_MODEL_384470846b584f8392c5cb96f15d12b6",
       "IPY_MODEL_016ac13b72554e6db8b27a7e0bef0dd1"
      ],
      "layout": "IPY_MODEL_46fc011f40474a99b06b953efc1bd46f"
     }
    },
    "a369d10e821347a7a7f4bea38cb7e6cf": {
     "model_module": "@jupyter-widgets/controls",
     "model_module_version": "1.5.0",
     "model_name": "ProgressStyleModel",
     "state": {
      "_model_module": "@jupyter-widgets/controls",
      "_model_module_version": "1.5.0",
      "_model_name": "ProgressStyleModel",
      "_view_count": null,
      "_view_module": "@jupyter-widgets/base",
      "_view_module_version": "1.2.0",
      "_view_name": "StyleView",
      "bar_color": null,
      "description_width": ""
     }
    },
    "cfeb48dd554d4ba9a3e35e0b4c24a395": {
     "model_module": "@jupyter-widgets/controls",
     "model_module_version": "1.5.0",
     "model_name": "DescriptionStyleModel",
     "state": {
      "_model_module": "@jupyter-widgets/controls",
      "_model_module_version": "1.5.0",
      "_model_name": "DescriptionStyleModel",
      "_view_count": null,
      "_view_module": "@jupyter-widgets/base",
      "_view_module_version": "1.2.0",
      "_view_name": "StyleView",
      "description_width": ""
     }
    },
    "d0bfdd4cecf3454c8052caf1e587ffb6": {
     "model_module": "@jupyter-widgets/controls",
     "model_module_version": "1.5.0",
     "model_name": "HTMLModel",
     "state": {
      "_dom_classes": [],
      "_model_module": "@jupyter-widgets/controls",
      "_model_module_version": "1.5.0",
      "_model_name": "HTMLModel",
      "_view_count": null,
      "_view_module": "@jupyter-widgets/controls",
      "_view_module_version": "1.5.0",
      "_view_name": "HTMLView",
      "description": "",
      "description_tooltip": null,
      "layout": "IPY_MODEL_db9fae562ba549b689c9b1e45aec7164",
      "placeholder": "​",
      "style": "IPY_MODEL_cfeb48dd554d4ba9a3e35e0b4c24a395",
      "value": "100%"
     }
    },
    "db9fae562ba549b689c9b1e45aec7164": {
     "model_module": "@jupyter-widgets/base",
     "model_module_version": "1.2.0",
     "model_name": "LayoutModel",
     "state": {
      "_model_module": "@jupyter-widgets/base",
      "_model_module_version": "1.2.0",
      "_model_name": "LayoutModel",
      "_view_count": null,
      "_view_module": "@jupyter-widgets/base",
      "_view_module_version": "1.2.0",
      "_view_name": "LayoutView",
      "align_content": null,
      "align_items": null,
      "align_self": null,
      "border": null,
      "bottom": null,
      "display": null,
      "flex": null,
      "flex_flow": null,
      "grid_area": null,
      "grid_auto_columns": null,
      "grid_auto_flow": null,
      "grid_auto_rows": null,
      "grid_column": null,
      "grid_gap": null,
      "grid_row": null,
      "grid_template_areas": null,
      "grid_template_columns": null,
      "grid_template_rows": null,
      "height": null,
      "justify_content": null,
      "justify_items": null,
      "left": null,
      "margin": null,
      "max_height": null,
      "max_width": null,
      "min_height": null,
      "min_width": null,
      "object_fit": null,
      "object_position": null,
      "order": null,
      "overflow": null,
      "overflow_x": null,
      "overflow_y": null,
      "padding": null,
      "right": null,
      "top": null,
      "visibility": null,
      "width": null
     }
    },
    "fa35e9ae30c341f2ac8d5e5dd6fb0964": {
     "model_module": "@jupyter-widgets/base",
     "model_module_version": "1.2.0",
     "model_name": "LayoutModel",
     "state": {
      "_model_module": "@jupyter-widgets/base",
      "_model_module_version": "1.2.0",
      "_model_name": "LayoutModel",
      "_view_count": null,
      "_view_module": "@jupyter-widgets/base",
      "_view_module_version": "1.2.0",
      "_view_name": "LayoutView",
      "align_content": null,
      "align_items": null,
      "align_self": null,
      "border": null,
      "bottom": null,
      "display": null,
      "flex": null,
      "flex_flow": null,
      "grid_area": null,
      "grid_auto_columns": null,
      "grid_auto_flow": null,
      "grid_auto_rows": null,
      "grid_column": null,
      "grid_gap": null,
      "grid_row": null,
      "grid_template_areas": null,
      "grid_template_columns": null,
      "grid_template_rows": null,
      "height": null,
      "justify_content": null,
      "justify_items": null,
      "left": null,
      "margin": null,
      "max_height": null,
      "max_width": null,
      "min_height": null,
      "min_width": null,
      "object_fit": null,
      "object_position": null,
      "order": null,
      "overflow": null,
      "overflow_x": null,
      "overflow_y": null,
      "padding": null,
      "right": null,
      "top": null,
      "visibility": null,
      "width": null
     }
    }
   }
  }
 },
 "nbformat": 4,
 "nbformat_minor": 4
}
