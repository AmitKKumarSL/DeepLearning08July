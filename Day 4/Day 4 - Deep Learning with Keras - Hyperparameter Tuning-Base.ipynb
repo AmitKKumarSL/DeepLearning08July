{
 "cells": [
  {
   "cell_type": "code",
   "execution_count": null,
   "id": "d31b9fe1-36f9-427c-94a2-3fbde5109df0",
   "metadata": {},
   "outputs": [],
   "source": [
    "import pandas as pd\n",
    "import numpy as np"
   ]
  },
  {
   "cell_type": "code",
   "execution_count": null,
   "id": "11fbce75-7a1f-4fba-aa86-104a3eefc3fa",
   "metadata": {},
   "outputs": [],
   "source": [
    "df_diab = pd.read_csv('diabetes.csv')"
   ]
  },
  {
   "cell_type": "code",
   "execution_count": null,
   "id": "91639249-a006-4260-8e75-03cfd2aa55b8",
   "metadata": {},
   "outputs": [],
   "source": [
    "df_diab.head()"
   ]
  },
  {
   "cell_type": "code",
   "execution_count": null,
   "id": "6f76f400-184d-4d40-ad6b-60f8cfd46de9",
   "metadata": {},
   "outputs": [],
   "source": [
    "df_diab.shape"
   ]
  },
  {
   "cell_type": "code",
   "execution_count": null,
   "id": "1a6c4030-1aee-47f1-bfcb-5d30213fdb0a",
   "metadata": {},
   "outputs": [],
   "source": [
    "df_diab.Outcome.unique()"
   ]
  },
  {
   "cell_type": "code",
   "execution_count": null,
   "id": "3c0c67d7-fec6-44c5-94c1-9a3f6660d87f",
   "metadata": {},
   "outputs": [],
   "source": [
    "df_diab.isna().sum()"
   ]
  },
  {
   "cell_type": "code",
   "execution_count": null,
   "id": "9bb6fc82-c903-4440-bbfc-9d7ca87465ca",
   "metadata": {},
   "outputs": [],
   "source": [
    "X = df_diab.drop(['Outcome'],axis=1)\n",
    "y = df_diab['Outcome']"
   ]
  },
  {
   "cell_type": "code",
   "execution_count": null,
   "id": "b390e395-80e8-4903-91e1-c9a1b9946432",
   "metadata": {},
   "outputs": [],
   "source": [
    "np.random.seed(12345)"
   ]
  },
  {
   "cell_type": "code",
   "execution_count": null,
   "id": "17b06800-3437-4f35-96f8-13fbcc67628f",
   "metadata": {},
   "outputs": [],
   "source": [
    "from sklearn.model_selection import train_test_split"
   ]
  },
  {
   "cell_type": "code",
   "execution_count": null,
   "id": "4750bdbe-c8c4-4ec2-9424-377492df3e93",
   "metadata": {},
   "outputs": [],
   "source": [
    "X_train, X_test, y_train,y_test = train_test_split(X,\n",
    "                                                   y,\n",
    "                                                   stratify = y,\n",
    "                                                   test_size=0.2,\n",
    "                                                   random_state=12345)"
   ]
  },
  {
   "cell_type": "code",
   "execution_count": null,
   "id": "06496bb0-5fda-466c-b58f-ad2f1b88785a",
   "metadata": {},
   "outputs": [],
   "source": [
    "X_train.shape"
   ]
  },
  {
   "cell_type": "code",
   "execution_count": null,
   "id": "5ca2c389-5256-4455-9b4d-c0fd3fc9d166",
   "metadata": {},
   "outputs": [],
   "source": [
    "X_test.shape"
   ]
  },
  {
   "cell_type": "code",
   "execution_count": null,
   "id": "c49ec3ef-1f00-475d-ac24-43cffb4974b2",
   "metadata": {},
   "outputs": [],
   "source": [
    "from sklearn.preprocessing import StandardScaler"
   ]
  },
  {
   "cell_type": "code",
   "execution_count": null,
   "id": "b2619fcb-0182-4fbe-bc3f-eea81a9d9e1a",
   "metadata": {},
   "outputs": [],
   "source": [
    "# X-scaled = (X - mean)/sd -> z value\n",
    "\n",
    "scaler = StandardScaler()\n",
    "X_train_scaled = scaler.fit_transform(X_train)\n",
    "X_test_scaled = scaler.transform(X_test)"
   ]
  },
  {
   "cell_type": "markdown",
   "id": "db14930a-09e9-4efe-9552-510fa1375be2",
   "metadata": {},
   "source": [
    "## Implement your model after this point"
   ]
  },
  {
   "cell_type": "code",
   "execution_count": null,
   "id": "69b751e3-3d43-4c0d-8a78-05ea76683135",
   "metadata": {},
   "outputs": [],
   "source": []
  },
  {
   "cell_type": "code",
   "execution_count": null,
   "id": "87b83d78-373e-452a-8f6b-8b88009c08f1",
   "metadata": {},
   "outputs": [],
   "source": []
  },
  {
   "cell_type": "code",
   "execution_count": null,
   "id": "89689590-784b-4fad-a572-f30e7f4ba97d",
   "metadata": {},
   "outputs": [],
   "source": []
  }
 ],
 "metadata": {
  "kernelspec": {
   "display_name": "Python 3",
   "language": "python",
   "name": "python3"
  },
  "language_info": {
   "codemirror_mode": {
    "name": "ipython",
    "version": 3
   },
   "file_extension": ".py",
   "mimetype": "text/x-python",
   "name": "python",
   "nbconvert_exporter": "python",
   "pygments_lexer": "ipython3",
   "version": "3.7.6"
  }
 },
 "nbformat": 4,
 "nbformat_minor": 5
}
